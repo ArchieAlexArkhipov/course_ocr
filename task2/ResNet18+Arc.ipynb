{
 "cells": [
  {
   "cell_type": "code",
   "execution_count": 1,
   "id": "N6RTxTsjuSwd",
   "metadata": {
    "colab": {
     "base_uri": "https://localhost:8080/"
    },
    "executionInfo": {
     "elapsed": 26449,
     "status": "ok",
     "timestamp": 1650272724621,
     "user": {
      "displayName": "Archi Igorevich",
      "userId": "06901066785823407851"
     },
     "user_tz": -180
    },
    "id": "N6RTxTsjuSwd",
    "outputId": "68137cac-29af-44cf-e950-7fdb9007c2c6"
   },
   "outputs": [
    {
     "name": "stdout",
     "output_type": "stream",
     "text": [
      "Mounted at /content/drive\n"
     ]
    }
   ],
   "source": [
    "import os\n",
    "from google.colab import drive\n",
    "drive.mount('/content/drive', force_remount=True)"
   ]
  },
  {
   "cell_type": "code",
   "execution_count": 2,
   "id": "PjqIaHhk8CS1",
   "metadata": {
    "executionInfo": {
     "elapsed": 13,
     "status": "ok",
     "timestamp": 1650272724622,
     "user": {
      "displayName": "Archi Igorevich",
      "userId": "06901066785823407851"
     },
     "user_tz": -180
    },
    "id": "PjqIaHhk8CS1"
   },
   "outputs": [],
   "source": [
    "IMG_SIZE = 128\n",
    "EPOCHS   = 7\n",
    "BATCH    = 512\n",
    "ARC      = True"
   ]
  },
  {
   "cell_type": "code",
   "execution_count": 3,
   "id": "asKzw0ORukvc",
   "metadata": {
    "colab": {
     "base_uri": "https://localhost:8080/"
    },
    "executionInfo": {
     "elapsed": 10,
     "status": "ok",
     "timestamp": 1650272724622,
     "user": {
      "displayName": "Archi Igorevich",
      "userId": "06901066785823407851"
     },
     "user_tz": -180
    },
    "id": "asKzw0ORukvc",
    "outputId": "aea7ee0a-608a-4110-b7e9-a522a81eb9e6"
   },
   "outputs": [
    {
     "name": "stdout",
     "output_type": "stream",
     "text": [
      "/content/drive/My Drive/course_ocr/task2 added to sys.path\n"
     ]
    }
   ],
   "source": [
    "import sys\n",
    "curr_dir = r'/content/drive/My Drive/course_ocr/task2'\n",
    "if curr_dir not in sys.path:\n",
    "  print(curr_dir, 'added to sys.path')\n",
    "  sys.path.append(curr_dir)\n",
    "else:\n",
    "  print(curr_dir, 'in sys.path')"
   ]
  },
  {
   "cell_type": "code",
   "execution_count": 4,
   "id": "9f37abdd",
   "metadata": {
    "executionInfo": {
     "elapsed": 3909,
     "status": "ok",
     "timestamp": 1650272728525,
     "user": {
      "displayName": "Archi Igorevich",
      "userId": "06901066785823407851"
     },
     "user_tz": -180
    },
    "id": "9f37abdd"
   },
   "outputs": [],
   "source": [
    "from data_reader import Vocabulary, HWDBDatasetHelper, ArchivedHWDBReader\n",
    "\n",
    "# your path to data\n",
    "train_path = r'/content/drive/My Drive/HWDBTrain/Images.zip'\n",
    "test_path = r'/content/drive/My Drive/HWDBTest/Images.zip'\n",
    "gt_path = './gt.txt'"
   ]
  },
  {
   "cell_type": "markdown",
   "id": "2042614e",
   "metadata": {
    "id": "2042614e"
   },
   "source": [
    "# Simple CNN baseline\n",
    "\n",
    "pytorch is required for this baseline implementation\n",
    "\n",
    "## Baseline method\n",
    "\n",
    "- Naively resize to 32x32 (DON'T DO THIS IN YOUR WORK, try to save geometry somehow, it is important)\n",
    "- Train LeNet-like CNN\n",
    "- Enjoy :)"
   ]
  },
  {
   "cell_type": "code",
   "execution_count": 5,
   "id": "73d8b167",
   "metadata": {
    "executionInfo": {
     "elapsed": 9,
     "status": "ok",
     "timestamp": 1650272728526,
     "user": {
      "displayName": "Archi Igorevich",
      "userId": "06901066785823407851"
     },
     "user_tz": -180
    },
    "id": "73d8b167"
   },
   "outputs": [],
   "source": [
    "import cv2\n",
    "import numpy as np"
   ]
  },
  {
   "cell_type": "markdown",
   "id": "f81f84ab",
   "metadata": {
    "id": "f81f84ab"
   },
   "source": [
    "### Data tools"
   ]
  },
  {
   "cell_type": "code",
   "execution_count": 6,
   "id": "f7f882df",
   "metadata": {
    "executionInfo": {
     "elapsed": 63680,
     "status": "ok",
     "timestamp": 1650272792200,
     "user": {
      "displayName": "Archi Igorevich",
      "userId": "06901066785823407851"
     },
     "user_tz": -180
    },
    "id": "f7f882df"
   },
   "outputs": [],
   "source": [
    "train_reader = ArchivedHWDBReader(train_path)\n",
    "train_reader.open()\n",
    "train_helper = HWDBDatasetHelper(train_reader)"
   ]
  },
  {
   "cell_type": "code",
   "execution_count": 7,
   "id": "35cf8784",
   "metadata": {
    "executionInfo": {
     "elapsed": 30026,
     "status": "ok",
     "timestamp": 1650272822213,
     "user": {
      "displayName": "Archi Igorevich",
      "userId": "06901066785823407851"
     },
     "user_tz": -180
    },
    "id": "35cf8784"
   },
   "outputs": [],
   "source": [
    "train_helper, val_helper = train_helper.train_val_split()"
   ]
  },
  {
   "cell_type": "code",
   "execution_count": 8,
   "id": "92eb367e",
   "metadata": {
    "colab": {
     "base_uri": "https://localhost:8080/"
    },
    "executionInfo": {
     "elapsed": 21,
     "status": "ok",
     "timestamp": 1650272822214,
     "user": {
      "displayName": "Archi Igorevich",
      "userId": "06901066785823407851"
     },
     "user_tz": -180
    },
    "id": "92eb367e",
    "outputId": "4803072b-d205-43ac-da88-711e1f0acd13"
   },
   "outputs": [
    {
     "data": {
      "text/plain": [
       "(2578433, 644609)"
      ]
     },
     "execution_count": 8,
     "metadata": {},
     "output_type": "execute_result"
    }
   ],
   "source": [
    "train_helper.size(), val_helper.size()"
   ]
  },
  {
   "cell_type": "code",
   "execution_count": 9,
   "id": "22592d05",
   "metadata": {
    "executionInfo": {
     "elapsed": 5038,
     "status": "ok",
     "timestamp": 1650272827242,
     "user": {
      "displayName": "Archi Igorevich",
      "userId": "06901066785823407851"
     },
     "user_tz": -180
    },
    "id": "22592d05"
   },
   "outputs": [],
   "source": [
    "import torch\n",
    "\n",
    "from torch.utils.data import Dataset, DataLoader\n",
    "from torch import nn\n",
    "\n",
    "class HWDBDataset(Dataset):\n",
    "    def __init__(self, helper: HWDBDatasetHelper):\n",
    "        self.helper = helper\n",
    "    \n",
    "    def __len__(self):\n",
    "        return self.helper.size()\n",
    "    \n",
    "    def __getitem__(self, idx):\n",
    "        im, label = self.helper.get_item(idx)\n",
    "\n",
    "        desired_size = IMG_SIZE\n",
    "\n",
    "        old_size = im.shape[:2] # old_size is in (height, width) format\n",
    "        ratio = float(desired_size)/max(old_size)\n",
    "        new_size = tuple([int(x*ratio) for x in old_size])\n",
    "\n",
    "        # new_size should be in (width, height) format\n",
    "\n",
    "        im = cv2.resize(im, (new_size[1], new_size[0]))\n",
    "\n",
    "        delta_w = desired_size - new_size[1]\n",
    "        delta_h = desired_size - new_size[0]\n",
    "        top, bottom = delta_h//2, delta_h-(delta_h//2)\n",
    "        left, right = delta_w//2, delta_w-(delta_w//2)\n",
    "\n",
    "        color = [255, 255, 255]\n",
    "        new_im = cv2.copyMakeBorder(im, top, bottom, left, right, cv2.BORDER_CONSTANT,\n",
    "            value=color)\n",
    "\n",
    "        im_rgb = cv2.cvtColor(new_im, cv2.COLOR_GRAY2RGB)\n",
    "        return (im_rgb - 127.5) / 255., label"
   ]
  },
  {
   "cell_type": "code",
   "execution_count": 10,
   "id": "b9e0c381",
   "metadata": {
    "executionInfo": {
     "elapsed": 8,
     "status": "ok",
     "timestamp": 1650272827244,
     "user": {
      "displayName": "Archi Igorevich",
      "userId": "06901066785823407851"
     },
     "user_tz": -180
    },
    "id": "b9e0c381"
   },
   "outputs": [],
   "source": [
    "train_dataset = HWDBDataset(train_helper)\n",
    "val_dataset = HWDBDataset(val_helper)"
   ]
  },
  {
   "cell_type": "markdown",
   "id": "e7b6636f",
   "metadata": {
    "id": "e7b6636f"
   },
   "source": [
    "### Model & training"
   ]
  },
  {
   "cell_type": "code",
   "execution_count": 11,
   "id": "hjCCwDPL5XD6",
   "metadata": {
    "colab": {
     "base_uri": "https://localhost:8080/",
     "height": 66,
     "referenced_widgets": [
      "b139ccd737f6493c84d8d777978205cb",
      "0e417c5e295a4018af03585026a19d0b",
      "d5d84e9a60ec4af39781014e1a0db1fb",
      "5a7fc0045be24421b2c72a4538167fc8",
      "4f76048943484936aa0b9055b1059eb3",
      "31ae4c7f1b254b269db9b8aaf8880fc0",
      "cc4e0375df0d4ed38f1dc5111d5345c4",
      "37923e6e88fb453fa5ece8aa031ae149",
      "b9f43d8c4f084cf6842bf6e1b6c6e56e",
      "91e3252439484e479d2d698ef2b7ec1d",
      "bb1a249541af4eb9a008a7bfbd5ce591"
     ]
    },
    "executionInfo": {
     "elapsed": 991,
     "status": "ok",
     "timestamp": 1650272828229,
     "user": {
      "displayName": "Archi Igorevich",
      "userId": "06901066785823407851"
     },
     "user_tz": -180
    },
    "id": "hjCCwDPL5XD6",
    "outputId": "aad6b22e-4cb4-4d44-f6b7-b1d754d96c06"
   },
   "outputs": [
    {
     "name": "stderr",
     "output_type": "stream",
     "text": [
      "Downloading: \"https://download.pytorch.org/models/resnet18-f37072fd.pth\" to /root/.cache/torch/hub/checkpoints/resnet18-f37072fd.pth\n"
     ]
    },
    {
     "data": {
      "application/vnd.jupyter.widget-view+json": {
       "model_id": "b139ccd737f6493c84d8d777978205cb",
       "version_major": 2,
       "version_minor": 0
      },
      "text/plain": [
       "  0%|          | 0.00/44.7M [00:00<?, ?B/s]"
      ]
     },
     "metadata": {},
     "output_type": "display_data"
    }
   ],
   "source": [
    "from torchvision import models\n",
    "\n",
    "model_ft = models.resnet18(pretrained=True)\n",
    "num_ftrs = model_ft.fc.in_features\n",
    "# Here the size of each output sample is set to 2.\n",
    "# Alternatively, it can be generalized to nn.Linear(num_ftrs, len(class_names)).\n",
    "model_ft.fc = nn.Linear(num_ftrs, 2048)\n",
    "\n",
    "# model_ft = model_ft.to(device)"
   ]
  },
  {
   "cell_type": "code",
   "execution_count": 12,
   "id": "c3e80256",
   "metadata": {
    "colab": {
     "base_uri": "https://localhost:8080/"
    },
    "executionInfo": {
     "elapsed": 4,
     "status": "ok",
     "timestamp": 1650272828229,
     "user": {
      "displayName": "Archi Igorevich",
      "userId": "06901066785823407851"
     },
     "user_tz": -180
    },
    "id": "c3e80256",
    "outputId": "503067f3-b146-450f-a46d-180de0e3e310"
   },
   "outputs": [
    {
     "data": {
      "text/plain": [
       "ResNet(\n",
       "  (conv1): Conv2d(3, 64, kernel_size=(7, 7), stride=(2, 2), padding=(3, 3), bias=False)\n",
       "  (bn1): BatchNorm2d(64, eps=1e-05, momentum=0.1, affine=True, track_running_stats=True)\n",
       "  (relu): ReLU(inplace=True)\n",
       "  (maxpool): MaxPool2d(kernel_size=3, stride=2, padding=1, dilation=1, ceil_mode=False)\n",
       "  (layer1): Sequential(\n",
       "    (0): BasicBlock(\n",
       "      (conv1): Conv2d(64, 64, kernel_size=(3, 3), stride=(1, 1), padding=(1, 1), bias=False)\n",
       "      (bn1): BatchNorm2d(64, eps=1e-05, momentum=0.1, affine=True, track_running_stats=True)\n",
       "      (relu): ReLU(inplace=True)\n",
       "      (conv2): Conv2d(64, 64, kernel_size=(3, 3), stride=(1, 1), padding=(1, 1), bias=False)\n",
       "      (bn2): BatchNorm2d(64, eps=1e-05, momentum=0.1, affine=True, track_running_stats=True)\n",
       "    )\n",
       "    (1): BasicBlock(\n",
       "      (conv1): Conv2d(64, 64, kernel_size=(3, 3), stride=(1, 1), padding=(1, 1), bias=False)\n",
       "      (bn1): BatchNorm2d(64, eps=1e-05, momentum=0.1, affine=True, track_running_stats=True)\n",
       "      (relu): ReLU(inplace=True)\n",
       "      (conv2): Conv2d(64, 64, kernel_size=(3, 3), stride=(1, 1), padding=(1, 1), bias=False)\n",
       "      (bn2): BatchNorm2d(64, eps=1e-05, momentum=0.1, affine=True, track_running_stats=True)\n",
       "    )\n",
       "  )\n",
       "  (layer2): Sequential(\n",
       "    (0): BasicBlock(\n",
       "      (conv1): Conv2d(64, 128, kernel_size=(3, 3), stride=(2, 2), padding=(1, 1), bias=False)\n",
       "      (bn1): BatchNorm2d(128, eps=1e-05, momentum=0.1, affine=True, track_running_stats=True)\n",
       "      (relu): ReLU(inplace=True)\n",
       "      (conv2): Conv2d(128, 128, kernel_size=(3, 3), stride=(1, 1), padding=(1, 1), bias=False)\n",
       "      (bn2): BatchNorm2d(128, eps=1e-05, momentum=0.1, affine=True, track_running_stats=True)\n",
       "      (downsample): Sequential(\n",
       "        (0): Conv2d(64, 128, kernel_size=(1, 1), stride=(2, 2), bias=False)\n",
       "        (1): BatchNorm2d(128, eps=1e-05, momentum=0.1, affine=True, track_running_stats=True)\n",
       "      )\n",
       "    )\n",
       "    (1): BasicBlock(\n",
       "      (conv1): Conv2d(128, 128, kernel_size=(3, 3), stride=(1, 1), padding=(1, 1), bias=False)\n",
       "      (bn1): BatchNorm2d(128, eps=1e-05, momentum=0.1, affine=True, track_running_stats=True)\n",
       "      (relu): ReLU(inplace=True)\n",
       "      (conv2): Conv2d(128, 128, kernel_size=(3, 3), stride=(1, 1), padding=(1, 1), bias=False)\n",
       "      (bn2): BatchNorm2d(128, eps=1e-05, momentum=0.1, affine=True, track_running_stats=True)\n",
       "    )\n",
       "  )\n",
       "  (layer3): Sequential(\n",
       "    (0): BasicBlock(\n",
       "      (conv1): Conv2d(128, 256, kernel_size=(3, 3), stride=(2, 2), padding=(1, 1), bias=False)\n",
       "      (bn1): BatchNorm2d(256, eps=1e-05, momentum=0.1, affine=True, track_running_stats=True)\n",
       "      (relu): ReLU(inplace=True)\n",
       "      (conv2): Conv2d(256, 256, kernel_size=(3, 3), stride=(1, 1), padding=(1, 1), bias=False)\n",
       "      (bn2): BatchNorm2d(256, eps=1e-05, momentum=0.1, affine=True, track_running_stats=True)\n",
       "      (downsample): Sequential(\n",
       "        (0): Conv2d(128, 256, kernel_size=(1, 1), stride=(2, 2), bias=False)\n",
       "        (1): BatchNorm2d(256, eps=1e-05, momentum=0.1, affine=True, track_running_stats=True)\n",
       "      )\n",
       "    )\n",
       "    (1): BasicBlock(\n",
       "      (conv1): Conv2d(256, 256, kernel_size=(3, 3), stride=(1, 1), padding=(1, 1), bias=False)\n",
       "      (bn1): BatchNorm2d(256, eps=1e-05, momentum=0.1, affine=True, track_running_stats=True)\n",
       "      (relu): ReLU(inplace=True)\n",
       "      (conv2): Conv2d(256, 256, kernel_size=(3, 3), stride=(1, 1), padding=(1, 1), bias=False)\n",
       "      (bn2): BatchNorm2d(256, eps=1e-05, momentum=0.1, affine=True, track_running_stats=True)\n",
       "    )\n",
       "  )\n",
       "  (layer4): Sequential(\n",
       "    (0): BasicBlock(\n",
       "      (conv1): Conv2d(256, 512, kernel_size=(3, 3), stride=(2, 2), padding=(1, 1), bias=False)\n",
       "      (bn1): BatchNorm2d(512, eps=1e-05, momentum=0.1, affine=True, track_running_stats=True)\n",
       "      (relu): ReLU(inplace=True)\n",
       "      (conv2): Conv2d(512, 512, kernel_size=(3, 3), stride=(1, 1), padding=(1, 1), bias=False)\n",
       "      (bn2): BatchNorm2d(512, eps=1e-05, momentum=0.1, affine=True, track_running_stats=True)\n",
       "      (downsample): Sequential(\n",
       "        (0): Conv2d(256, 512, kernel_size=(1, 1), stride=(2, 2), bias=False)\n",
       "        (1): BatchNorm2d(512, eps=1e-05, momentum=0.1, affine=True, track_running_stats=True)\n",
       "      )\n",
       "    )\n",
       "    (1): BasicBlock(\n",
       "      (conv1): Conv2d(512, 512, kernel_size=(3, 3), stride=(1, 1), padding=(1, 1), bias=False)\n",
       "      (bn1): BatchNorm2d(512, eps=1e-05, momentum=0.1, affine=True, track_running_stats=True)\n",
       "      (relu): ReLU(inplace=True)\n",
       "      (conv2): Conv2d(512, 512, kernel_size=(3, 3), stride=(1, 1), padding=(1, 1), bias=False)\n",
       "      (bn2): BatchNorm2d(512, eps=1e-05, momentum=0.1, affine=True, track_running_stats=True)\n",
       "    )\n",
       "  )\n",
       "  (avgpool): AdaptiveAvgPool2d(output_size=(1, 1))\n",
       "  (fc): Linear(in_features=512, out_features=2048, bias=True)\n",
       ")"
      ]
     },
     "execution_count": 12,
     "metadata": {},
     "output_type": "execute_result"
    }
   ],
   "source": [
    "model =  model_ft\n",
    "model.eval()"
   ]
  },
  {
   "cell_type": "code",
   "execution_count": 13,
   "id": "2f9230bd",
   "metadata": {
    "executionInfo": {
     "elapsed": 2,
     "status": "ok",
     "timestamp": 1650272828229,
     "user": {
      "displayName": "Archi Igorevich",
      "userId": "06901066785823407851"
     },
     "user_tz": -180
    },
    "id": "2f9230bd"
   },
   "outputs": [],
   "source": [
    "# model(torch.tensor(train_dataset[0][0], dtype=torch.float32).view(1, 3, 64, 64))"
   ]
  },
  {
   "cell_type": "code",
   "execution_count": 14,
   "id": "d357b1c9",
   "metadata": {
    "executionInfo": {
     "elapsed": 8830,
     "status": "ok",
     "timestamp": 1650272837574,
     "user": {
      "displayName": "Archi Igorevich",
      "userId": "06901066785823407851"
     },
     "user_tz": -180
    },
    "id": "d357b1c9"
   },
   "outputs": [],
   "source": [
    "model = model.cuda()"
   ]
  },
  {
   "cell_type": "code",
   "execution_count": 15,
   "id": "1c9fe9f2",
   "metadata": {
    "executionInfo": {
     "elapsed": 26,
     "status": "ok",
     "timestamp": 1650272837578,
     "user": {
      "displayName": "Archi Igorevich",
      "userId": "06901066785823407851"
     },
     "user_tz": -180
    },
    "id": "1c9fe9f2"
   },
   "outputs": [],
   "source": [
    "train_loader = DataLoader(train_dataset, batch_size=BATCH, shuffle=True, drop_last=True)\n",
    "val_loader = DataLoader(val_dataset, batch_size=2048, shuffle=False)"
   ]
  },
  {
   "cell_type": "code",
   "execution_count": 16,
   "id": "J7MPShGnmeAb",
   "metadata": {
    "colab": {
     "base_uri": "https://localhost:8080/"
    },
    "executionInfo": {
     "elapsed": 3316,
     "status": "ok",
     "timestamp": 1650272840876,
     "user": {
      "displayName": "Archi Igorevich",
      "userId": "06901066785823407851"
     },
     "user_tz": -180
    },
    "id": "J7MPShGnmeAb",
    "outputId": "fc4e84cc-9f3f-4456-f784-aa0d6b89a1eb"
   },
   "outputs": [
    {
     "name": "stdout",
     "output_type": "stream",
     "text": [
      "Collecting pytorch-metric-learning\n",
      "  Downloading pytorch_metric_learning-1.3.0-py3-none-any.whl (109 kB)\n",
      "\u001b[?25l\r",
      "\u001b[K     |███                             | 10 kB 32.5 MB/s eta 0:00:01\r",
      "\u001b[K     |██████                          | 20 kB 41.0 MB/s eta 0:00:01\r",
      "\u001b[K     |█████████                       | 30 kB 36.8 MB/s eta 0:00:01\r",
      "\u001b[K     |████████████                    | 40 kB 26.8 MB/s eta 0:00:01\r",
      "\u001b[K     |███████████████                 | 51 kB 23.0 MB/s eta 0:00:01\r",
      "\u001b[K     |██████████████████              | 61 kB 26.4 MB/s eta 0:00:01\r",
      "\u001b[K     |█████████████████████           | 71 kB 24.7 MB/s eta 0:00:01\r",
      "\u001b[K     |████████████████████████        | 81 kB 25.7 MB/s eta 0:00:01\r",
      "\u001b[K     |███████████████████████████     | 92 kB 27.8 MB/s eta 0:00:01\r",
      "\u001b[K     |██████████████████████████████  | 102 kB 30.0 MB/s eta 0:00:01\r",
      "\u001b[K     |████████████████████████████████| 109 kB 30.0 MB/s \n",
      "\u001b[?25hRequirement already satisfied: torch>=1.6.0 in /usr/local/lib/python3.7/dist-packages (from pytorch-metric-learning) (1.10.0+cu111)\n",
      "Requirement already satisfied: torchvision in /usr/local/lib/python3.7/dist-packages (from pytorch-metric-learning) (0.11.1+cu111)\n",
      "Requirement already satisfied: scikit-learn in /usr/local/lib/python3.7/dist-packages (from pytorch-metric-learning) (1.0.2)\n",
      "Requirement already satisfied: tqdm in /usr/local/lib/python3.7/dist-packages (from pytorch-metric-learning) (4.64.0)\n",
      "Requirement already satisfied: numpy in /usr/local/lib/python3.7/dist-packages (from pytorch-metric-learning) (1.21.5)\n",
      "Requirement already satisfied: typing-extensions in /usr/local/lib/python3.7/dist-packages (from torch>=1.6.0->pytorch-metric-learning) (4.1.1)\n",
      "Requirement already satisfied: scipy>=1.1.0 in /usr/local/lib/python3.7/dist-packages (from scikit-learn->pytorch-metric-learning) (1.4.1)\n",
      "Requirement already satisfied: threadpoolctl>=2.0.0 in /usr/local/lib/python3.7/dist-packages (from scikit-learn->pytorch-metric-learning) (3.1.0)\n",
      "Requirement already satisfied: joblib>=0.11 in /usr/local/lib/python3.7/dist-packages (from scikit-learn->pytorch-metric-learning) (1.1.0)\n",
      "Requirement already satisfied: pillow!=8.3.0,>=5.3.0 in /usr/local/lib/python3.7/dist-packages (from torchvision->pytorch-metric-learning) (7.1.2)\n",
      "Installing collected packages: pytorch-metric-learning\n",
      "Successfully installed pytorch-metric-learning-1.3.0\n"
     ]
    }
   ],
   "source": [
    "!pip install pytorch-metric-learning"
   ]
  },
  {
   "cell_type": "code",
   "execution_count": 17,
   "id": "T_Qor_wHmJSH",
   "metadata": {
    "executionInfo": {
     "elapsed": 18,
     "status": "ok",
     "timestamp": 1650272840877,
     "user": {
      "displayName": "Archi Igorevich",
      "userId": "06901066785823407851"
     },
     "user_tz": -180
    },
    "id": "T_Qor_wHmJSH"
   },
   "outputs": [],
   "source": [
    "from pytorch_metric_learning import losses\n",
    "if ARC == True:\n",
    "  loss_fn = losses.ArcFaceLoss(num_classes=train_helper.vocabulary.num_classes(), embedding_size=2048).to(torch.device('cuda'))\n",
    "  loss_optimizer = torch.optim.Adam(loss_fn.parameters(), lr=1e-4)\n",
    "else:\n",
    "  loss_fn = torch.nn.CrossEntropyLoss()\n",
    "\n",
    "# For classification losses, you can get logits using the get_logits function:\n",
    "# loss_func = losses.SomeClassificationLoss()\n",
    "# logits = loss_func.get_logits(embeddings)"
   ]
  },
  {
   "cell_type": "code",
   "execution_count": 18,
   "id": "127e1bb2",
   "metadata": {
    "executionInfo": {
     "elapsed": 17,
     "status": "ok",
     "timestamp": 1650272840878,
     "user": {
      "displayName": "Archi Igorevich",
      "userId": "06901066785823407851"
     },
     "user_tz": -180
    },
    "id": "127e1bb2"
   },
   "outputs": [],
   "source": [
    "optim = torch.optim.Adam(model.parameters(), lr=0.001)\n",
    "# loss_fn = torch.nn.CrossEntropyLoss()"
   ]
  },
  {
   "cell_type": "code",
   "execution_count": 19,
   "id": "5c09f520",
   "metadata": {
    "executionInfo": {
     "elapsed": 8,
     "status": "ok",
     "timestamp": 1650272841449,
     "user": {
      "displayName": "Archi Igorevich",
      "userId": "06901066785823407851"
     },
     "user_tz": -180
    },
    "id": "5c09f520"
   },
   "outputs": [],
   "source": [
    "from tqdm import tqdm\n",
    "\n",
    "\n",
    "def run_validation(val_loader: DataLoader, model: nn.Module, loss_fn, n_steps=None):\n",
    "    model.eval()\n",
    "    n_good = 0\n",
    "    n_all = 0\n",
    "    wrapper = lambda x: x\n",
    "    if n_steps is None:\n",
    "        n_steps = len(val_loader)\n",
    "        wrapper = tqdm\n",
    "    \n",
    "    with torch.no_grad():\n",
    "        for batch, (X, y) in enumerate(wrapper(val_loader)):\n",
    "            if batch == n_steps:\n",
    "                break\n",
    "            X = torch.swapaxes(X, 1, 3)\n",
    "            embeddings = model(X.to(torch.float32).cuda())\n",
    "            logits = loss_fn.get_logits(embeddings)\n",
    "            classes = torch.argmax(logits, dim=1).cpu().numpy()\n",
    "            n_good += sum(classes == y.cpu().numpy())\n",
    "            n_all += len(classes)\n",
    "    \n",
    "    return n_good / n_all\n",
    "\n",
    "\n",
    "def train_epoch(train_loader: DataLoader, val_loader: DataLoader, model: nn.Module, optim, loss_fn, loss_optimizer):\n",
    "    for batch, (X, y) in enumerate(tqdm(train_loader)):\n",
    "        model.train()\n",
    "        X = torch.swapaxes(X, 1, 3)\n",
    "        logits = model(X.to(torch.float32).cuda())\n",
    "\n",
    "        loss = loss_fn(logits, y.to(torch.long).cuda())\n",
    "        \n",
    "        optim.zero_grad()\n",
    "\n",
    "        if ARC == True:\n",
    "          loss_optimizer.zero_grad()\n",
    "          \n",
    "\n",
    "        loss.backward()\n",
    "\n",
    "        if ARC == True:\n",
    "          loss_optimizer.step()\n",
    "        optim.step()"
   ]
  },
  {
   "cell_type": "code",
   "execution_count": null,
   "id": "d5fd44e1",
   "metadata": {
    "colab": {
     "base_uri": "https://localhost:8080/"
    },
    "id": "d5fd44e1",
    "outputId": "49519f0a-44bc-4b76-a875-0e6b0fb02bc6"
   },
   "outputs": [
    {
     "metadata": {
      "tags": null
     },
     "name": "stdout",
     "output_type": "stream",
     "text": [
      "Epoch 0:\n"
     ]
    },
    {
     "metadata": {
      "tags": null
     },
     "name": "stderr",
     "output_type": "stream",
     "text": [
      "100%|██████████| 5036/5036 [1:20:31<00:00,  1.04it/s]\n"
     ]
    },
    {
     "metadata": {
      "tags": null
     },
     "name": "stdout",
     "output_type": "stream",
     "text": [
      "accuracy: 0.9355733475641823\n",
      "Epoch 1:\n"
     ]
    },
    {
     "metadata": {
      "tags": null
     },
     "name": "stderr",
     "output_type": "stream",
     "text": [
      "100%|██████████| 5036/5036 [1:16:34<00:00,  1.10it/s]\n"
     ]
    },
    {
     "metadata": {
      "tags": null
     },
     "name": "stdout",
     "output_type": "stream",
     "text": [
      "accuracy: 0.95117970738851\n",
      "Epoch 2:\n"
     ]
    },
    {
     "metadata": {
      "tags": null
     },
     "name": "stderr",
     "output_type": "stream",
     "text": [
      "100%|██████████| 5036/5036 [1:16:36<00:00,  1.10it/s]\n"
     ]
    },
    {
     "name": "stdout",
     "output_type": "stream",
     "text": [
      "accuracy: 0.952003462564128\n",
      "Epoch 3:\n"
     ]
    },
    {
     "name": "stderr",
     "output_type": "stream",
     "text": [
      "100%|██████████| 5036/5036 [1:16:35<00:00,  1.10it/s]\n"
     ]
    },
    {
     "name": "stdout",
     "output_type": "stream",
     "text": [
      "accuracy: 0.9557902542471483\n",
      "Epoch 4:\n"
     ]
    },
    {
     "name": "stderr",
     "output_type": "stream",
     "text": [
      "100%|██████████| 5036/5036 [1:16:34<00:00,  1.10it/s]\n"
     ]
    },
    {
     "name": "stdout",
     "output_type": "stream",
     "text": [
      "accuracy: 0.9605031887547335\n",
      "Epoch 5:\n"
     ]
    },
    {
     "name": "stderr",
     "output_type": "stream",
     "text": [
      " 81%|████████  | 4081/5036 [1:02:04<14:31,  1.10it/s]"
     ]
    }
   ],
   "source": [
    "for epoch in range(EPOCHS):\n",
    "    print(f'Epoch {epoch}:')\n",
    "    train_epoch(train_loader, val_loader, model, optim, loss_fn, loss_optimizer)\n",
    "    accuracy = run_validation(val_loader, model, loss_fn)\n",
    "    print(f'accuracy: {accuracy}')\n",
    "    torch.save(model.state_dict(), f'/content/drive/My Drive/course_ocr/task2/Checkpoints/baseline_ARC_{BATCH}_{IMG_SIZE}_epoch{epoch}.pth')"
   ]
  },
  {
   "cell_type": "code",
   "execution_count": null,
   "id": "QSADC4a0HU5y",
   "metadata": {
    "id": "QSADC4a0HU5y"
   },
   "outputs": [],
   "source": [
    "torch.save(model.state_dict(), f'/content/drive/My Drive/course_ocr/task2/Checkpoints/baseline_ARC_{BATCH}_{IMG_SIZE}.pth')"
   ]
  },
  {
   "cell_type": "markdown",
   "id": "1de4c7b6",
   "metadata": {
    "id": "1de4c7b6"
   },
   "source": [
    "### Evaluation"
   ]
  },
  {
   "cell_type": "code",
   "execution_count": null,
   "id": "73dd6418",
   "metadata": {
    "id": "73dd6418"
   },
   "outputs": [],
   "source": [
    "\n",
    "pred_path = r'/content/drive/My Drive/course_ocr/task2/predARC18.txt'\n",
    "\n",
    "test_reader = ArchivedHWDBReader(test_path)\n",
    "test_reader.open()\n",
    "test_helper = HWDBDatasetHelper(test_reader, prefix='Test')"
   ]
  },
  {
   "cell_type": "code",
   "execution_count": null,
   "id": "71d47be7",
   "metadata": {
    "id": "71d47be7"
   },
   "outputs": [],
   "source": [
    "test_dataset = HWDBDataset(test_helper)\n",
    "test_loader = DataLoader(test_dataset, batch_size=2048, shuffle=False)"
   ]
  },
  {
   "cell_type": "code",
   "execution_count": null,
   "id": "0304466b",
   "metadata": {
    "id": "0304466b"
   },
   "outputs": [],
   "source": [
    "preds = []\n",
    "model.eval()\n",
    "with torch.no_grad():\n",
    "    for X, _ in tqdm(test_loader):\n",
    "        X = torch.swapaxes(X, 1, 3)\n",
    "        embeddings = model(X.to(torch.float32).cuda())\n",
    "        logits = loss_fn.get_logits(embeddings)\n",
    "        classes = torch.argmax(logits, dim=1).cpu().numpy()\n",
    "        preds.extend(classes)"
   ]
  },
  {
   "cell_type": "code",
   "execution_count": null,
   "id": "34ee1630",
   "metadata": {
    "id": "34ee1630"
   },
   "outputs": [],
   "source": [
    "with open(pred_path, 'w') as f_pred:\n",
    "    for idx, pred in enumerate(preds):\n",
    "        name = test_helper.namelist[idx]\n",
    "        cls = train_helper.vocabulary.class_by_index(pred)\n",
    "        print(name, cls, file=f_pred)"
   ]
  },
  {
   "cell_type": "code",
   "execution_count": null,
   "id": "vQU-XhKHINxr",
   "metadata": {
    "id": "vQU-XhKHINxr"
   },
   "outputs": [],
   "source": [
    "! cd /content/drive/'My Drive'/course_ocr/task2/course_ocr_t2 ; python -m evaluate"
   ]
  },
  {
   "cell_type": "code",
   "execution_count": null,
   "id": "RPUOK-V0lBWc",
   "metadata": {
    "id": "RPUOK-V0lBWc"
   },
   "outputs": [],
   "source": []
  }
 ],
 "metadata": {
  "accelerator": "GPU",
  "colab": {
   "collapsed_sections": [],
   "machine_shape": "hm",
   "name": "ResNet50+Arc.ipynb",
   "provenance": []
  },
  "kernelspec": {
   "display_name": "Python 3 (ipykernel)",
   "language": "python",
   "name": "python3"
  },
  "language_info": {
   "codemirror_mode": {
    "name": "ipython",
    "version": 3
   },
   "file_extension": ".py",
   "mimetype": "text/x-python",
   "name": "python",
   "nbconvert_exporter": "python",
   "pygments_lexer": "ipython3",
   "version": "3.7.11"
  },
  "widgets": {
   "application/vnd.jupyter.widget-state+json": {
    "0e417c5e295a4018af03585026a19d0b": {
     "model_module": "@jupyter-widgets/controls",
     "model_module_version": "1.5.0",
     "model_name": "HTMLModel",
     "state": {
      "_dom_classes": [],
      "_model_module": "@jupyter-widgets/controls",
      "_model_module_version": "1.5.0",
      "_model_name": "HTMLModel",
      "_view_count": null,
      "_view_module": "@jupyter-widgets/controls",
      "_view_module_version": "1.5.0",
      "_view_name": "HTMLView",
      "description": "",
      "description_tooltip": null,
      "layout": "IPY_MODEL_31ae4c7f1b254b269db9b8aaf8880fc0",
      "placeholder": "​",
      "style": "IPY_MODEL_cc4e0375df0d4ed38f1dc5111d5345c4",
      "value": "100%"
     }
    },
    "31ae4c7f1b254b269db9b8aaf8880fc0": {
     "model_module": "@jupyter-widgets/base",
     "model_module_version": "1.2.0",
     "model_name": "LayoutModel",
     "state": {
      "_model_module": "@jupyter-widgets/base",
      "_model_module_version": "1.2.0",
      "_model_name": "LayoutModel",
      "_view_count": null,
      "_view_module": "@jupyter-widgets/base",
      "_view_module_version": "1.2.0",
      "_view_name": "LayoutView",
      "align_content": null,
      "align_items": null,
      "align_self": null,
      "border": null,
      "bottom": null,
      "display": null,
      "flex": null,
      "flex_flow": null,
      "grid_area": null,
      "grid_auto_columns": null,
      "grid_auto_flow": null,
      "grid_auto_rows": null,
      "grid_column": null,
      "grid_gap": null,
      "grid_row": null,
      "grid_template_areas": null,
      "grid_template_columns": null,
      "grid_template_rows": null,
      "height": null,
      "justify_content": null,
      "justify_items": null,
      "left": null,
      "margin": null,
      "max_height": null,
      "max_width": null,
      "min_height": null,
      "min_width": null,
      "object_fit": null,
      "object_position": null,
      "order": null,
      "overflow": null,
      "overflow_x": null,
      "overflow_y": null,
      "padding": null,
      "right": null,
      "top": null,
      "visibility": null,
      "width": null
     }
    },
    "37923e6e88fb453fa5ece8aa031ae149": {
     "model_module": "@jupyter-widgets/base",
     "model_module_version": "1.2.0",
     "model_name": "LayoutModel",
     "state": {
      "_model_module": "@jupyter-widgets/base",
      "_model_module_version": "1.2.0",
      "_model_name": "LayoutModel",
      "_view_count": null,
      "_view_module": "@jupyter-widgets/base",
      "_view_module_version": "1.2.0",
      "_view_name": "LayoutView",
      "align_content": null,
      "align_items": null,
      "align_self": null,
      "border": null,
      "bottom": null,
      "display": null,
      "flex": null,
      "flex_flow": null,
      "grid_area": null,
      "grid_auto_columns": null,
      "grid_auto_flow": null,
      "grid_auto_rows": null,
      "grid_column": null,
      "grid_gap": null,
      "grid_row": null,
      "grid_template_areas": null,
      "grid_template_columns": null,
      "grid_template_rows": null,
      "height": null,
      "justify_content": null,
      "justify_items": null,
      "left": null,
      "margin": null,
      "max_height": null,
      "max_width": null,
      "min_height": null,
      "min_width": null,
      "object_fit": null,
      "object_position": null,
      "order": null,
      "overflow": null,
      "overflow_x": null,
      "overflow_y": null,
      "padding": null,
      "right": null,
      "top": null,
      "visibility": null,
      "width": null
     }
    },
    "4f76048943484936aa0b9055b1059eb3": {
     "model_module": "@jupyter-widgets/base",
     "model_module_version": "1.2.0",
     "model_name": "LayoutModel",
     "state": {
      "_model_module": "@jupyter-widgets/base",
      "_model_module_version": "1.2.0",
      "_model_name": "LayoutModel",
      "_view_count": null,
      "_view_module": "@jupyter-widgets/base",
      "_view_module_version": "1.2.0",
      "_view_name": "LayoutView",
      "align_content": null,
      "align_items": null,
      "align_self": null,
      "border": null,
      "bottom": null,
      "display": null,
      "flex": null,
      "flex_flow": null,
      "grid_area": null,
      "grid_auto_columns": null,
      "grid_auto_flow": null,
      "grid_auto_rows": null,
      "grid_column": null,
      "grid_gap": null,
      "grid_row": null,
      "grid_template_areas": null,
      "grid_template_columns": null,
      "grid_template_rows": null,
      "height": null,
      "justify_content": null,
      "justify_items": null,
      "left": null,
      "margin": null,
      "max_height": null,
      "max_width": null,
      "min_height": null,
      "min_width": null,
      "object_fit": null,
      "object_position": null,
      "order": null,
      "overflow": null,
      "overflow_x": null,
      "overflow_y": null,
      "padding": null,
      "right": null,
      "top": null,
      "visibility": null,
      "width": null
     }
    },
    "5a7fc0045be24421b2c72a4538167fc8": {
     "model_module": "@jupyter-widgets/controls",
     "model_module_version": "1.5.0",
     "model_name": "HTMLModel",
     "state": {
      "_dom_classes": [],
      "_model_module": "@jupyter-widgets/controls",
      "_model_module_version": "1.5.0",
      "_model_name": "HTMLModel",
      "_view_count": null,
      "_view_module": "@jupyter-widgets/controls",
      "_view_module_version": "1.5.0",
      "_view_name": "HTMLView",
      "description": "",
      "description_tooltip": null,
      "layout": "IPY_MODEL_91e3252439484e479d2d698ef2b7ec1d",
      "placeholder": "​",
      "style": "IPY_MODEL_bb1a249541af4eb9a008a7bfbd5ce591",
      "value": " 44.7M/44.7M [00:00&lt;00:00, 77.7MB/s]"
     }
    },
    "91e3252439484e479d2d698ef2b7ec1d": {
     "model_module": "@jupyter-widgets/base",
     "model_module_version": "1.2.0",
     "model_name": "LayoutModel",
     "state": {
      "_model_module": "@jupyter-widgets/base",
      "_model_module_version": "1.2.0",
      "_model_name": "LayoutModel",
      "_view_count": null,
      "_view_module": "@jupyter-widgets/base",
      "_view_module_version": "1.2.0",
      "_view_name": "LayoutView",
      "align_content": null,
      "align_items": null,
      "align_self": null,
      "border": null,
      "bottom": null,
      "display": null,
      "flex": null,
      "flex_flow": null,
      "grid_area": null,
      "grid_auto_columns": null,
      "grid_auto_flow": null,
      "grid_auto_rows": null,
      "grid_column": null,
      "grid_gap": null,
      "grid_row": null,
      "grid_template_areas": null,
      "grid_template_columns": null,
      "grid_template_rows": null,
      "height": null,
      "justify_content": null,
      "justify_items": null,
      "left": null,
      "margin": null,
      "max_height": null,
      "max_width": null,
      "min_height": null,
      "min_width": null,
      "object_fit": null,
      "object_position": null,
      "order": null,
      "overflow": null,
      "overflow_x": null,
      "overflow_y": null,
      "padding": null,
      "right": null,
      "top": null,
      "visibility": null,
      "width": null
     }
    },
    "b139ccd737f6493c84d8d777978205cb": {
     "model_module": "@jupyter-widgets/controls",
     "model_module_version": "1.5.0",
     "model_name": "HBoxModel",
     "state": {
      "_dom_classes": [],
      "_model_module": "@jupyter-widgets/controls",
      "_model_module_version": "1.5.0",
      "_model_name": "HBoxModel",
      "_view_count": null,
      "_view_module": "@jupyter-widgets/controls",
      "_view_module_version": "1.5.0",
      "_view_name": "HBoxView",
      "box_style": "",
      "children": [
       "IPY_MODEL_0e417c5e295a4018af03585026a19d0b",
       "IPY_MODEL_d5d84e9a60ec4af39781014e1a0db1fb",
       "IPY_MODEL_5a7fc0045be24421b2c72a4538167fc8"
      ],
      "layout": "IPY_MODEL_4f76048943484936aa0b9055b1059eb3"
     }
    },
    "b9f43d8c4f084cf6842bf6e1b6c6e56e": {
     "model_module": "@jupyter-widgets/controls",
     "model_module_version": "1.5.0",
     "model_name": "ProgressStyleModel",
     "state": {
      "_model_module": "@jupyter-widgets/controls",
      "_model_module_version": "1.5.0",
      "_model_name": "ProgressStyleModel",
      "_view_count": null,
      "_view_module": "@jupyter-widgets/base",
      "_view_module_version": "1.2.0",
      "_view_name": "StyleView",
      "bar_color": null,
      "description_width": ""
     }
    },
    "bb1a249541af4eb9a008a7bfbd5ce591": {
     "model_module": "@jupyter-widgets/controls",
     "model_module_version": "1.5.0",
     "model_name": "DescriptionStyleModel",
     "state": {
      "_model_module": "@jupyter-widgets/controls",
      "_model_module_version": "1.5.0",
      "_model_name": "DescriptionStyleModel",
      "_view_count": null,
      "_view_module": "@jupyter-widgets/base",
      "_view_module_version": "1.2.0",
      "_view_name": "StyleView",
      "description_width": ""
     }
    },
    "cc4e0375df0d4ed38f1dc5111d5345c4": {
     "model_module": "@jupyter-widgets/controls",
     "model_module_version": "1.5.0",
     "model_name": "DescriptionStyleModel",
     "state": {
      "_model_module": "@jupyter-widgets/controls",
      "_model_module_version": "1.5.0",
      "_model_name": "DescriptionStyleModel",
      "_view_count": null,
      "_view_module": "@jupyter-widgets/base",
      "_view_module_version": "1.2.0",
      "_view_name": "StyleView",
      "description_width": ""
     }
    },
    "d5d84e9a60ec4af39781014e1a0db1fb": {
     "model_module": "@jupyter-widgets/controls",
     "model_module_version": "1.5.0",
     "model_name": "FloatProgressModel",
     "state": {
      "_dom_classes": [],
      "_model_module": "@jupyter-widgets/controls",
      "_model_module_version": "1.5.0",
      "_model_name": "FloatProgressModel",
      "_view_count": null,
      "_view_module": "@jupyter-widgets/controls",
      "_view_module_version": "1.5.0",
      "_view_name": "ProgressView",
      "bar_style": "success",
      "description": "",
      "description_tooltip": null,
      "layout": "IPY_MODEL_37923e6e88fb453fa5ece8aa031ae149",
      "max": 46830571,
      "min": 0,
      "orientation": "horizontal",
      "style": "IPY_MODEL_b9f43d8c4f084cf6842bf6e1b6c6e56e",
      "value": 46830571
     }
    }
   }
  }
 },
 "nbformat": 4,
 "nbformat_minor": 5
}
