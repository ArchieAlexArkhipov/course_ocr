{
  "cells": [
    {
      "cell_type": "code",
      "execution_count": 1,
      "metadata": {
        "colab": {
          "base_uri": "https://localhost:8080/"
        },
        "id": "N6RTxTsjuSwd",
        "outputId": "852b59d1-4942-4bba-950a-2a11db22f39f"
      },
      "outputs": [
        {
          "output_type": "stream",
          "name": "stdout",
          "text": [
            "Mounted at /content/drive\n"
          ]
        }
      ],
      "source": [
        "from google.colab import drive\n",
        "from google.colab.patches import cv2_imshow\n",
        "drive.mount('/content/drive', force_remount=True)\n",
        "\n",
        "import os\n",
        "from tqdm.notebook import tqdm"
      ],
      "id": "N6RTxTsjuSwd"
    },
    {
      "cell_type": "code",
      "execution_count": 2,
      "metadata": {
        "colab": {
          "base_uri": "https://localhost:8080/"
        },
        "id": "asKzw0ORukvc",
        "outputId": "3f6a7503-0546-43d1-d760-3da13f80daa2"
      },
      "outputs": [
        {
          "output_type": "stream",
          "name": "stdout",
          "text": [
            "/content/drive/My Drive/course_ocr/task3 added to sys.path\n"
          ]
        }
      ],
      "source": [
        "import sys\n",
        "curr_dir = r'/content/drive/My Drive/course_ocr/task3'\n",
        "if curr_dir not in sys.path:\n",
        "  print(curr_dir, 'added to sys.path')\n",
        "  sys.path.append(curr_dir)\n",
        "else:\n",
        "  print(curr_dir, 'in sys.path')"
      ],
      "id": "asKzw0ORukvc"
    },
    {
      "cell_type": "code",
      "execution_count": 3,
      "metadata": {
        "id": "9f37abdd"
      },
      "outputs": [],
      "source": [
        "# your path to data\n",
        "train_path = r'/content/drive/My Drive/CourseOCRTask3/Train'\n",
        "test_path = r'/content/drive/My Drive/CourseOCRTask3/Test'"
      ],
      "id": "9f37abdd"
    },
    {
      "cell_type": "code",
      "execution_count": 4,
      "metadata": {
        "colab": {
          "base_uri": "https://localhost:8080/"
        },
        "id": "9GnekHLVtWUk",
        "outputId": "ae8f5656-5ae1-4bc4-8787-16374e1d2246"
      },
      "outputs": [
        {
          "output_type": "stream",
          "name": "stdout",
          "text": [
            "Reading package lists... Done\n",
            "Building dependency tree       \n",
            "Reading state information... Done\n",
            "libzbar0 is already the newest version (0.10+doc-10.1build2).\n",
            "The following packages were automatically installed and are no longer required:\n",
            "  libnvidia-common-460 nsight-compute-2020.2.0\n",
            "Use 'apt autoremove' to remove them.\n",
            "0 upgraded, 0 newly installed, 0 to remove and 42 not upgraded.\n"
          ]
        }
      ],
      "source": [
        "!apt install libzbar0"
      ],
      "id": "9GnekHLVtWUk"
    },
    {
      "cell_type": "code",
      "execution_count": 5,
      "metadata": {
        "colab": {
          "base_uri": "https://localhost:8080/"
        },
        "id": "2ntF0ONdas2n",
        "outputId": "ce065841-2be9-49e4-da74-e86d72a8ae04"
      },
      "outputs": [
        {
          "output_type": "stream",
          "name": "stdout",
          "text": [
            "Requirement already satisfied: pyzbar in /usr/local/lib/python3.7/dist-packages (0.1.8)\n"
          ]
        }
      ],
      "source": [
        "!pip install pyzbar"
      ],
      "id": "2ntF0ONdas2n"
    },
    {
      "cell_type": "code",
      "source": [
        "! pip install -U opencv-contrib-python"
      ],
      "metadata": {
        "colab": {
          "base_uri": "https://localhost:8080/"
        },
        "id": "Im5WADXoOq-i",
        "outputId": "e3d97016-5a76-47a9-d9fa-c36f34481ea3"
      },
      "id": "Im5WADXoOq-i",
      "execution_count": 6,
      "outputs": [
        {
          "output_type": "stream",
          "name": "stdout",
          "text": [
            "Requirement already satisfied: opencv-contrib-python in /usr/local/lib/python3.7/dist-packages (4.5.5.64)\n",
            "Requirement already satisfied: numpy>=1.14.5 in /usr/local/lib/python3.7/dist-packages (from opencv-contrib-python) (1.19.5)\n"
          ]
        }
      ]
    },
    {
      "cell_type": "code",
      "execution_count": 7,
      "metadata": {
        "id": "0roFgvizrgxP"
      },
      "outputs": [],
      "source": [
        "markup_path = r'/content/drive/My Drive/course_ocr/task3/markup.csv'\n",
        "import pandas as pd\n",
        "df = pd.read_csv(markup_path, encoding='utf16', header=None, names=['File','Code', 'x1', 'y1', 'x2', 'y2', 'x3', 'y3', 'x4', 'y4', 'Extra'])"
      ],
      "id": "0roFgvizrgxP"
    },
    {
      "cell_type": "code",
      "source": [
        "df_out = pd.DataFrame(index=df.index, columns=df.columns)"
      ],
      "metadata": {
        "id": "nDCmn0pB4Fgq"
      },
      "id": "nDCmn0pB4Fgq",
      "execution_count": null,
      "outputs": []
    },
    {
      "cell_type": "code",
      "source": [
        "# Importing library\n",
        "import cv2\n",
        "from pyzbar.pyzbar import decode, ZBarSymbol\n",
        "import numpy as np\n",
        "\n",
        "\n",
        "bardet = cv2.barcode_BarcodeDetector()\n",
        "\n",
        "\n",
        "def GetBarcodeZbar(barcodes):\n",
        "    code = None\n",
        "    coord = None\n",
        "    for barcode in barcodes:\n",
        "        if len(barcode.data) == 13:\n",
        "            code = barcode.data\n",
        "            coord = barcode.rect # polygon\n",
        "    if code == None:\n",
        "        return None\n",
        "    else:\n",
        "        return ['zbar', code, coord]\n",
        "\n",
        "def BarcodeReader(image):\n",
        "\n",
        "    img = cv2.imread(image)\n",
        "    img = cv2.cvtColor(img, cv2.COLOR_BGR2GRAY)\n",
        "\n",
        "    is_ok, bar_info, bar_type, points = bardet.detectAndDecode(img)\n",
        "    if is_ok:\n",
        "        return ['opencv', bar_info[0],  points[0]]\n",
        "    else:\n",
        "        is_ok = decode(img, symbols=[ZBarSymbol.EAN13])\n",
        "        barcode = GetBarcodeZbar(is_ok)\n",
        "        if barcode:\n",
        "            return barcode\n",
        "        else:\n",
        "            for bin in range(25):\n",
        "                for inv in range(2):           \n",
        "                    for rot in range(4):\n",
        "                        img = cv2.rotate(img, cv2.cv2.ROTATE_90_CLOCKWISE)\n",
        "\n",
        "\n",
        "                        is_ok, bar_info, bar_type, points = bardet.detectAndDecode(img)\n",
        "                        if is_ok:\n",
        "                            return ['opencv', bar_info[0],  points[0]]\n",
        "                        else:\n",
        "                            is_ok = decode(img, symbols=[ZBarSymbol.EAN13])\n",
        "                            barcode = GetBarcodeZbar(is_ok)\n",
        "                            if barcode:\n",
        "                                return barcode  \n",
        "\n",
        "\n",
        "                    img = cv2.bitwise_not(img)\n",
        "                img = cv2.imread(image)\n",
        "                img = cv2.cvtColor(img, cv2.COLOR_BGR2GRAY)\n",
        "                ret,img = cv2.threshold(img,10+bin*10,255,cv2.THRESH_BINARY)\n",
        "            return ['zbar', '0123456789101', [544, 718, 862, 158] ]"
      ],
      "metadata": {
        "id": "BAebxiSJCXms"
      },
      "id": "BAebxiSJCXms",
      "execution_count": 68,
      "outputs": []
    },
    {
      "cell_type": "code",
      "source": [
        "correct = 0 \n",
        "for line in tqdm(range(df.shape[0])):\n",
        "    image = test_path + '/Images/' + df.iloc[line]['File']\n",
        "    [detector, code, points] = BarcodeReader(image)\n",
        "    if detector == 'zbar':\n",
        "        df_out.iloc[line]['File'] = df.iloc[line]['File']\n",
        "        df_out.iloc[line]['Code'] = int(code)\n",
        "        df_out.iloc[line]['x1']   = points[0]\n",
        "        df_out.iloc[line]['y1']   = points[1]\n",
        "        df_out.iloc[line]['x2']   = points[0] + points[2]\n",
        "        df_out.iloc[line]['y2']   = points[1] \n",
        "        df_out.iloc[line]['x3']   = points[0] + points[2]\n",
        "        df_out.iloc[line]['y3']   = points[1] + points[3]\n",
        "        df_out.iloc[line]['x4']   = points[0]\n",
        "        df_out.iloc[line]['y4']   = points[1] + points[3]\n",
        "    elif detector == 'opencv':\n",
        "        df_out.iloc[line]['File'] = df.iloc[line]['File']\n",
        "        df_out.iloc[line]['Code'] = int(code)\n",
        "        df_out.iloc[line]['x1']   = int(points[1][0])\n",
        "        df_out.iloc[line]['y1']   = int(points[1][1])\n",
        "        df_out.iloc[line]['x2']   = int(points[2][0])\n",
        "        df_out.iloc[line]['y2']   = int(points[2][1])\n",
        "        df_out.iloc[line]['x3']   = int(points[3][0])\n",
        "        df_out.iloc[line]['y3']   = int(points[3][1])\n",
        "        df_out.iloc[line]['x4']   = int(points[0][0])\n",
        "        df_out.iloc[line]['y4']   = int(points[0][1])  \n",
        "\n",
        "    if int(code) == int(df.iloc[line]['Code']):\n",
        "        correct += 1\n",
        "print(correct / df.shape[0])"
      ],
      "metadata": {
        "colab": {
          "base_uri": "https://localhost:8080/",
          "height": 66,
          "referenced_widgets": [
            "8b2beaf9dd154f03aa0a7980ce081149",
            "0db6e223d47b452488f066d6086ccc3b",
            "26c389fd51604c25ae5b7c23831ef96e",
            "e3f7f4ea6348431a89fc6709d357d7f9",
            "d615a60c2c8348cfbdf70cd89a8a9817",
            "c61bafc108a04048a7d7e60310fbf860",
            "a12ed6038274481d9dad8de88832f4e1",
            "0344c3403aa945f4b6f99a773df77ba3",
            "af17d31140094edf8a8b4ee3a5794842",
            "00c44d5937d44a218c22d509e023ce65",
            "ddd3f6138e4a4f3e96eb8021a6f12407"
          ]
        },
        "id": "dIvM6xnFCa5K",
        "outputId": "bd8a56c1-b59b-4320-a175-ac3d4b564eec"
      },
      "id": "dIvM6xnFCa5K",
      "execution_count": 69,
      "outputs": [
        {
          "output_type": "display_data",
          "data": {
            "text/plain": [
              "  0%|          | 0/100 [00:00<?, ?it/s]"
            ],
            "application/vnd.jupyter.widget-view+json": {
              "version_major": 2,
              "version_minor": 0,
              "model_id": "8b2beaf9dd154f03aa0a7980ce081149"
            }
          },
          "metadata": {}
        },
        {
          "output_type": "stream",
          "name": "stdout",
          "text": [
            "0.82\n"
          ]
        }
      ]
    },
    {
      "cell_type": "code",
      "source": [
        "df_out.to_csv('/content/drive/My Drive/course_ocr/task3/answer.csv', header=None, encoding='utf16', index=None)"
      ],
      "metadata": {
        "id": "ET4FWO9zHILM"
      },
      "id": "ET4FWO9zHILM",
      "execution_count": 73,
      "outputs": []
    },
    {
      "cell_type": "code",
      "source": [
        "! cd drive/MyDrive/course_ocr/task3/course_ocr_t3; python -m evaluate"
      ],
      "metadata": {
        "colab": {
          "base_uri": "https://localhost:8080/"
        },
        "id": "x7bldExgHLrU",
        "outputId": "b0dfb344-b07c-407e-dd79-b0a5fd917ac8"
      },
      "id": "x7bldExgHLrU",
      "execution_count": 74,
      "outputs": [
        {
          "output_type": "stream",
          "name": "stdout",
          "text": [
            "Checking answer (/content/drive/MyDrive/course_ocr/task3/answer.csv) against markup(/content/drive/MyDrive/course_ocr/task3/markup.csv)\n",
            "recognition_accuracy= 0.8181818181818182\n",
            "detection_iou= 0.5776676491696768\n",
            "score= 0.7340018590275688\n"
          ]
        }
      ]
    }
  ],
  "metadata": {
    "colab": {
      "collapsed_sections": [],
      "machine_shape": "hm",
      "name": "PYZBAR.ipynb",
      "provenance": []
    },
    "kernelspec": {
      "display_name": "Python 3 (ipykernel)",
      "language": "python",
      "name": "python3"
    },
    "language_info": {
      "codemirror_mode": {
        "name": "ipython",
        "version": 3
      },
      "file_extension": ".py",
      "mimetype": "text/x-python",
      "name": "python",
      "nbconvert_exporter": "python",
      "pygments_lexer": "ipython3",
      "version": "3.10.3"
    },
    "widgets": {
      "application/vnd.jupyter.widget-state+json": {
        "8b2beaf9dd154f03aa0a7980ce081149": {
          "model_module": "@jupyter-widgets/controls",
          "model_name": "HBoxModel",
          "model_module_version": "1.5.0",
          "state": {
            "_dom_classes": [],
            "_model_module": "@jupyter-widgets/controls",
            "_model_module_version": "1.5.0",
            "_model_name": "HBoxModel",
            "_view_count": null,
            "_view_module": "@jupyter-widgets/controls",
            "_view_module_version": "1.5.0",
            "_view_name": "HBoxView",
            "box_style": "",
            "children": [
              "IPY_MODEL_0db6e223d47b452488f066d6086ccc3b",
              "IPY_MODEL_26c389fd51604c25ae5b7c23831ef96e",
              "IPY_MODEL_e3f7f4ea6348431a89fc6709d357d7f9"
            ],
            "layout": "IPY_MODEL_d615a60c2c8348cfbdf70cd89a8a9817"
          }
        },
        "0db6e223d47b452488f066d6086ccc3b": {
          "model_module": "@jupyter-widgets/controls",
          "model_name": "HTMLModel",
          "model_module_version": "1.5.0",
          "state": {
            "_dom_classes": [],
            "_model_module": "@jupyter-widgets/controls",
            "_model_module_version": "1.5.0",
            "_model_name": "HTMLModel",
            "_view_count": null,
            "_view_module": "@jupyter-widgets/controls",
            "_view_module_version": "1.5.0",
            "_view_name": "HTMLView",
            "description": "",
            "description_tooltip": null,
            "layout": "IPY_MODEL_c61bafc108a04048a7d7e60310fbf860",
            "placeholder": "​",
            "style": "IPY_MODEL_a12ed6038274481d9dad8de88832f4e1",
            "value": "100%"
          }
        },
        "26c389fd51604c25ae5b7c23831ef96e": {
          "model_module": "@jupyter-widgets/controls",
          "model_name": "FloatProgressModel",
          "model_module_version": "1.5.0",
          "state": {
            "_dom_classes": [],
            "_model_module": "@jupyter-widgets/controls",
            "_model_module_version": "1.5.0",
            "_model_name": "FloatProgressModel",
            "_view_count": null,
            "_view_module": "@jupyter-widgets/controls",
            "_view_module_version": "1.5.0",
            "_view_name": "ProgressView",
            "bar_style": "success",
            "description": "",
            "description_tooltip": null,
            "layout": "IPY_MODEL_0344c3403aa945f4b6f99a773df77ba3",
            "max": 100,
            "min": 0,
            "orientation": "horizontal",
            "style": "IPY_MODEL_af17d31140094edf8a8b4ee3a5794842",
            "value": 100
          }
        },
        "e3f7f4ea6348431a89fc6709d357d7f9": {
          "model_module": "@jupyter-widgets/controls",
          "model_name": "HTMLModel",
          "model_module_version": "1.5.0",
          "state": {
            "_dom_classes": [],
            "_model_module": "@jupyter-widgets/controls",
            "_model_module_version": "1.5.0",
            "_model_name": "HTMLModel",
            "_view_count": null,
            "_view_module": "@jupyter-widgets/controls",
            "_view_module_version": "1.5.0",
            "_view_name": "HTMLView",
            "description": "",
            "description_tooltip": null,
            "layout": "IPY_MODEL_00c44d5937d44a218c22d509e023ce65",
            "placeholder": "​",
            "style": "IPY_MODEL_ddd3f6138e4a4f3e96eb8021a6f12407",
            "value": " 100/100 [04:51&lt;00:00,  3.22s/it]"
          }
        },
        "d615a60c2c8348cfbdf70cd89a8a9817": {
          "model_module": "@jupyter-widgets/base",
          "model_name": "LayoutModel",
          "model_module_version": "1.2.0",
          "state": {
            "_model_module": "@jupyter-widgets/base",
            "_model_module_version": "1.2.0",
            "_model_name": "LayoutModel",
            "_view_count": null,
            "_view_module": "@jupyter-widgets/base",
            "_view_module_version": "1.2.0",
            "_view_name": "LayoutView",
            "align_content": null,
            "align_items": null,
            "align_self": null,
            "border": null,
            "bottom": null,
            "display": null,
            "flex": null,
            "flex_flow": null,
            "grid_area": null,
            "grid_auto_columns": null,
            "grid_auto_flow": null,
            "grid_auto_rows": null,
            "grid_column": null,
            "grid_gap": null,
            "grid_row": null,
            "grid_template_areas": null,
            "grid_template_columns": null,
            "grid_template_rows": null,
            "height": null,
            "justify_content": null,
            "justify_items": null,
            "left": null,
            "margin": null,
            "max_height": null,
            "max_width": null,
            "min_height": null,
            "min_width": null,
            "object_fit": null,
            "object_position": null,
            "order": null,
            "overflow": null,
            "overflow_x": null,
            "overflow_y": null,
            "padding": null,
            "right": null,
            "top": null,
            "visibility": null,
            "width": null
          }
        },
        "c61bafc108a04048a7d7e60310fbf860": {
          "model_module": "@jupyter-widgets/base",
          "model_name": "LayoutModel",
          "model_module_version": "1.2.0",
          "state": {
            "_model_module": "@jupyter-widgets/base",
            "_model_module_version": "1.2.0",
            "_model_name": "LayoutModel",
            "_view_count": null,
            "_view_module": "@jupyter-widgets/base",
            "_view_module_version": "1.2.0",
            "_view_name": "LayoutView",
            "align_content": null,
            "align_items": null,
            "align_self": null,
            "border": null,
            "bottom": null,
            "display": null,
            "flex": null,
            "flex_flow": null,
            "grid_area": null,
            "grid_auto_columns": null,
            "grid_auto_flow": null,
            "grid_auto_rows": null,
            "grid_column": null,
            "grid_gap": null,
            "grid_row": null,
            "grid_template_areas": null,
            "grid_template_columns": null,
            "grid_template_rows": null,
            "height": null,
            "justify_content": null,
            "justify_items": null,
            "left": null,
            "margin": null,
            "max_height": null,
            "max_width": null,
            "min_height": null,
            "min_width": null,
            "object_fit": null,
            "object_position": null,
            "order": null,
            "overflow": null,
            "overflow_x": null,
            "overflow_y": null,
            "padding": null,
            "right": null,
            "top": null,
            "visibility": null,
            "width": null
          }
        },
        "a12ed6038274481d9dad8de88832f4e1": {
          "model_module": "@jupyter-widgets/controls",
          "model_name": "DescriptionStyleModel",
          "model_module_version": "1.5.0",
          "state": {
            "_model_module": "@jupyter-widgets/controls",
            "_model_module_version": "1.5.0",
            "_model_name": "DescriptionStyleModel",
            "_view_count": null,
            "_view_module": "@jupyter-widgets/base",
            "_view_module_version": "1.2.0",
            "_view_name": "StyleView",
            "description_width": ""
          }
        },
        "0344c3403aa945f4b6f99a773df77ba3": {
          "model_module": "@jupyter-widgets/base",
          "model_name": "LayoutModel",
          "model_module_version": "1.2.0",
          "state": {
            "_model_module": "@jupyter-widgets/base",
            "_model_module_version": "1.2.0",
            "_model_name": "LayoutModel",
            "_view_count": null,
            "_view_module": "@jupyter-widgets/base",
            "_view_module_version": "1.2.0",
            "_view_name": "LayoutView",
            "align_content": null,
            "align_items": null,
            "align_self": null,
            "border": null,
            "bottom": null,
            "display": null,
            "flex": null,
            "flex_flow": null,
            "grid_area": null,
            "grid_auto_columns": null,
            "grid_auto_flow": null,
            "grid_auto_rows": null,
            "grid_column": null,
            "grid_gap": null,
            "grid_row": null,
            "grid_template_areas": null,
            "grid_template_columns": null,
            "grid_template_rows": null,
            "height": null,
            "justify_content": null,
            "justify_items": null,
            "left": null,
            "margin": null,
            "max_height": null,
            "max_width": null,
            "min_height": null,
            "min_width": null,
            "object_fit": null,
            "object_position": null,
            "order": null,
            "overflow": null,
            "overflow_x": null,
            "overflow_y": null,
            "padding": null,
            "right": null,
            "top": null,
            "visibility": null,
            "width": null
          }
        },
        "af17d31140094edf8a8b4ee3a5794842": {
          "model_module": "@jupyter-widgets/controls",
          "model_name": "ProgressStyleModel",
          "model_module_version": "1.5.0",
          "state": {
            "_model_module": "@jupyter-widgets/controls",
            "_model_module_version": "1.5.0",
            "_model_name": "ProgressStyleModel",
            "_view_count": null,
            "_view_module": "@jupyter-widgets/base",
            "_view_module_version": "1.2.0",
            "_view_name": "StyleView",
            "bar_color": null,
            "description_width": ""
          }
        },
        "00c44d5937d44a218c22d509e023ce65": {
          "model_module": "@jupyter-widgets/base",
          "model_name": "LayoutModel",
          "model_module_version": "1.2.0",
          "state": {
            "_model_module": "@jupyter-widgets/base",
            "_model_module_version": "1.2.0",
            "_model_name": "LayoutModel",
            "_view_count": null,
            "_view_module": "@jupyter-widgets/base",
            "_view_module_version": "1.2.0",
            "_view_name": "LayoutView",
            "align_content": null,
            "align_items": null,
            "align_self": null,
            "border": null,
            "bottom": null,
            "display": null,
            "flex": null,
            "flex_flow": null,
            "grid_area": null,
            "grid_auto_columns": null,
            "grid_auto_flow": null,
            "grid_auto_rows": null,
            "grid_column": null,
            "grid_gap": null,
            "grid_row": null,
            "grid_template_areas": null,
            "grid_template_columns": null,
            "grid_template_rows": null,
            "height": null,
            "justify_content": null,
            "justify_items": null,
            "left": null,
            "margin": null,
            "max_height": null,
            "max_width": null,
            "min_height": null,
            "min_width": null,
            "object_fit": null,
            "object_position": null,
            "order": null,
            "overflow": null,
            "overflow_x": null,
            "overflow_y": null,
            "padding": null,
            "right": null,
            "top": null,
            "visibility": null,
            "width": null
          }
        },
        "ddd3f6138e4a4f3e96eb8021a6f12407": {
          "model_module": "@jupyter-widgets/controls",
          "model_name": "DescriptionStyleModel",
          "model_module_version": "1.5.0",
          "state": {
            "_model_module": "@jupyter-widgets/controls",
            "_model_module_version": "1.5.0",
            "_model_name": "DescriptionStyleModel",
            "_view_count": null,
            "_view_module": "@jupyter-widgets/base",
            "_view_module_version": "1.2.0",
            "_view_name": "StyleView",
            "description_width": ""
          }
        }
      }
    }
  },
  "nbformat": 4,
  "nbformat_minor": 5
}