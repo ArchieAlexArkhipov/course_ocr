{
 "cells": [
  {
   "cell_type": "code",
   "execution_count": 1,
   "metadata": {
    "colab": {
     "base_uri": "https://localhost:8080/"
    },
    "executionInfo": {
     "elapsed": 11614,
     "status": "ok",
     "timestamp": 1652970655078,
     "user": {
      "displayName": "Archi Igorevich",
      "userId": "06901066785823407851"
     },
     "user_tz": -180
    },
    "id": "oQRcYBuQ8gJE",
    "outputId": "6bb1ba8c-965d-4837-dd4d-cce6bc5c4262"
   },
   "outputs": [
    {
     "name": "stdout",
     "output_type": "stream",
     "text": [
      "Defaulting to user installation because normal site-packages is not writeable\n",
      "Requirement already satisfied: opencv-contrib-python in /home/aiarhipov/.local/lib/python3.6/site-packages (4.5.5.64)\n",
      "Requirement already satisfied: numpy>=1.13.3 in /usr/local/lib/python3.6/dist-packages (from opencv-contrib-python) (1.19.0)\n",
      "fatal: destination path 'r2d2' already exists and is not an empty directory.\n"
     ]
    }
   ],
   "source": [
    "! pip install -U opencv-contrib-python\n",
    "! git clone https://github.com/naver/r2d2.git\n",
    "# ! pip install opencv-python-headless==4.1.2.30"
   ]
  },
  {
   "cell_type": "code",
   "execution_count": 2,
   "metadata": {},
   "outputs": [
    {
     "name": "stdout",
     "output_type": "stream",
     "text": [
      "/home/aiarhipov/OCR/course_ocr/task1\r\n"
     ]
    }
   ],
   "source": [
    "! pwd"
   ]
  },
  {
   "cell_type": "code",
   "execution_count": 3,
   "metadata": {
    "executionInfo": {
     "elapsed": 4308,
     "status": "ok",
     "timestamp": 1652970686228,
     "user": {
      "displayName": "Archi Igorevich",
      "userId": "06901066785823407851"
     },
     "user_tz": -180
    },
    "id": "2685783b-d09e-4363-8031-3860fb7c4f5b",
    "scrolled": true
   },
   "outputs": [],
   "source": [
    "from pathlib import Path\n",
    "from course_ocr_t1.data import MidvPackage\n",
    "from tqdm import tqdm\n",
    "from matplotlib import pyplot as plt\n",
    "import numpy as np\n",
    "from tqdm.notebook import tqdm\n",
    "import cv2\n"
   ]
  },
  {
   "cell_type": "code",
   "execution_count": 4,
   "metadata": {
    "executionInfo": {
     "elapsed": 7,
     "status": "ok",
     "timestamp": 1652970686229,
     "user": {
      "displayName": "Archi Igorevich",
      "userId": "06901066785823407851"
     },
     "user_tz": -180
    },
    "id": "9e291e6a-7d07-4bd5-9e13-b35e4eca5b6c"
   },
   "outputs": [],
   "source": [
    "DATASET_PATH = Path('/home/aiarhipov/OCR/midv500_compressed')\n",
    "assert DATASET_PATH.exists(), DATASET_PATH.absolute()"
   ]
  },
  {
   "cell_type": "code",
   "execution_count": 5,
   "metadata": {
    "colab": {
     "base_uri": "https://localhost:8080/"
    },
    "executionInfo": {
     "elapsed": 1834,
     "status": "ok",
     "timestamp": 1652970688058,
     "user": {
      "displayName": "Archi Igorevich",
      "userId": "06901066785823407851"
     },
     "user_tz": -180
    },
    "id": "cOcQkqxCnf-c",
    "outputId": "8c8a2342-928b-4c1d-b4c6-cfb78f848c73"
   },
   "outputs": [
    {
     "name": "stdout",
     "output_type": "stream",
     "text": [
      "/bin/bash: line 0: cd: midv500_compressed: No such file or directory\r\n",
      "/bin/bash: line 0: cd: 50_xpo_id: No such file or directory\r\n",
      "/bin/bash: line 0: cd: images: No such file or directory\r\n",
      "README.md\tdf-Copy1.xlsx  gt.json\t       r2d2\r\n",
      "baseline.ipynb\tdf.xlsx        pred-96,7.json  r2d2.ipynb\r\n",
      "course_ocr_t1\tdf_99%.xlsx    pred.json       setup.py\r\n"
     ]
    }
   ],
   "source": [
    "! cd midv500_compressed ; cd 50_xpo_id ; cd images ; ls "
   ]
  },
  {
   "cell_type": "markdown",
   "metadata": {
    "id": "urMfRRKHLtWu"
   },
   "source": [
    "всего 15050 фоток"
   ]
  },
  {
   "cell_type": "code",
   "execution_count": 6,
   "metadata": {
    "id": "94c3336d-e609-47fa-8b64-43bcb8d5092f"
   },
   "outputs": [
    {
     "data": {
      "text/plain": [
       "(50, course_ocr_t1.data.MidvPackage)"
      ]
     },
     "execution_count": 6,
     "metadata": {},
     "output_type": "execute_result"
    }
   ],
   "source": [
    "# Собираем список пакетов (MidvPackage) \n",
    "data_packs = MidvPackage.read_midv500_dataset(DATASET_PATH)\n",
    "len(data_packs), type(data_packs[0])"
   ]
  },
  {
   "cell_type": "code",
   "execution_count": 7,
   "metadata": {
    "id": "p9IqaL0_xiCn"
   },
   "outputs": [],
   "source": [
    "import sys\n",
    "r2d2_path = '/home/aiarhipov/OCR/course_ocr/task1/r2d2/'\n",
    "if r2d2_path not in sys.path:\n",
    "    sys.path.append(r2d2_path)\n"
   ]
  },
  {
   "cell_type": "code",
   "execution_count": 8,
   "metadata": {
    "id": "AqxSEshW0ug8"
   },
   "outputs": [],
   "source": [
    "! cd r2d2"
   ]
  },
  {
   "cell_type": "code",
   "execution_count": 9,
   "metadata": {
    "id": "hu9myreoy73u"
   },
   "outputs": [],
   "source": [
    "import os, pdb\n",
    "from PIL import Image\n",
    "import numpy as np\n",
    "import torch\n",
    "\n",
    "from r2d2.tools import common\n",
    "from r2d2.nets.patchnet import *\n",
    "import torchvision.transforms as tvf\n",
    "RGB_mean = [0.485, 0.456, 0.406]\n",
    "RGB_std  = [0.229, 0.224, 0.225]\n",
    "\n",
    "norm_RGB = tvf.Compose([tvf.ToTensor(), tvf.Normalize(mean=RGB_mean, std=RGB_std)])"
   ]
  },
  {
   "cell_type": "code",
   "execution_count": 10,
   "metadata": {
    "id": "wky5a3vOlwdK"
   },
   "outputs": [],
   "source": [
    "def load_network(model_fn): \n",
    "    checkpoint = torch.load(model_fn)\n",
    "    net = eval(checkpoint['net'])\n",
    "    nb_of_weights = common.model_size(net)\n",
    "\n",
    "    weights = checkpoint['state_dict']\n",
    "    net.load_state_dict({k.replace('module.',''):v for k,v in weights.items()})\n",
    "    return net.eval()\n",
    "class NonMaxSuppression (torch.nn.Module):\n",
    "    def __init__(self, rel_thr=0.7, rep_thr=0.7):\n",
    "        nn.Module.__init__(self)\n",
    "        self.max_filter = torch.nn.MaxPool2d(kernel_size=3, stride=1, padding=1)\n",
    "        self.rel_thr = rel_thr\n",
    "        self.rep_thr = rep_thr\n",
    "    \n",
    "    def forward(self, reliability, repeatability, **kw):\n",
    "        assert len(reliability) == len(repeatability) == 1\n",
    "        reliability, repeatability = reliability[0], repeatability[0]\n",
    "\n",
    "        maxima = (repeatability == self.max_filter(repeatability))\n",
    "\n",
    "        maxima *= (repeatability >= self.rep_thr)\n",
    "        maxima *= (reliability   >= self.rel_thr)\n",
    "\n",
    "        return maxima.nonzero().t()[2:4]\n",
    "def extract_multiscale( net, img, detector, scale_f=2**0.25, \n",
    "                        min_scale=0.0, max_scale=1, \n",
    "                        min_size=256, max_size=1024, \n",
    "                        verbose=False):\n",
    "    old_bm = torch.backends.cudnn.benchmark \n",
    "    torch.backends.cudnn.benchmark = False # speedup\n",
    "    \n",
    "    B, three, H, W = img.shape\n",
    "    assert B == 1 and three == 3, \"should be a batch with a single RGB image\"\n",
    "    \n",
    "    assert max_scale <= 1\n",
    "    s = 1.0 # current scale factor\n",
    "    \n",
    "    X,Y,S,C,Q,D = [],[],[],[],[],[]\n",
    "    while  s+0.001 >= max(min_scale, min_size / max(H,W)):\n",
    "        if s-0.001 <= min(max_scale, max_size / max(H,W)):\n",
    "            nh, nw = img.shape[2:]\n",
    "            if verbose: print(f\"extracting at scale x{s:.02f} = {nw:4d}x{nh:3d}\")\n",
    "            with torch.no_grad():\n",
    "                res = net(imgs=[img])\n",
    "                \n",
    " \n",
    "            descriptors = res['descriptors'][0]\n",
    "            reliability = res['reliability'][0]\n",
    "            repeatability = res['repeatability'][0]\n",
    "\n",
    "\n",
    "            y,x = detector(**res) # nms\n",
    "            c = reliability[0,0,y,x]\n",
    "            q = repeatability[0,0,y,x]\n",
    "            d = descriptors[0,:,y,x].t()\n",
    "            n = d.shape[0]\n",
    "\n",
    "            X.append(x.float() * W/nw)\n",
    "            Y.append(y.float() * H/nh)\n",
    "            S.append((32/s) * torch.ones(n, dtype=torch.float32, device=d.device))\n",
    "            C.append(c)\n",
    "            Q.append(q)\n",
    "            D.append(d)\n",
    "        s /= scale_f\n",
    "\n",
    "        nh, nw = round(H*s), round(W*s)\n",
    "        img = F.interpolate(img, (nh,nw), mode='bilinear', align_corners=False)\n",
    "\n",
    "    torch.backends.cudnn.benchmark = old_bm\n",
    "\n",
    "    Y = torch.cat(Y)\n",
    "    X = torch.cat(X)\n",
    "    S = torch.cat(S) # scale\n",
    "    scores = torch.cat(C) * torch.cat(Q) # scores = reliability * repeatability\n",
    "    XYS = torch.stack([X,Y,S], dim=-1)\n",
    "    D = torch.cat(D)\n",
    "    return XYS, D, scores"
   ]
  },
  {
   "cell_type": "code",
   "execution_count": 11,
   "metadata": {
    "id": "QtBETnQdnWm9"
   },
   "outputs": [
    {
     "name": "stdout",
     "output_type": "stream",
     "text": [
      "Launching on GPUs 1\n"
     ]
    }
   ],
   "source": [
    "net = load_network('/home/aiarhipov/OCR/course_ocr/task1/r2d2/models/r2d2.pt')\n",
    "iscuda = common.torch_set_gpu(1)\n",
    "if iscuda: net = net.cuda()\n",
    "\n",
    "def R2D2_hard(img_path, top_k=5000):\n",
    "\n",
    "    detector = NonMaxSuppression(\n",
    "        rel_thr = 0.7, \n",
    "        rep_thr = 0.7)\n",
    "\n",
    "    img = Image.open(img_path).convert('RGB')\n",
    "    W, H = img.size\n",
    "    img = norm_RGB(img)[None] \n",
    "    if iscuda: img = img.cuda()\n",
    "    \n",
    "    xys, desc, scores = extract_multiscale(net, img, detector,\n",
    "        scale_f   = 2**0.25, \n",
    "        min_scale = 0.1, \n",
    "        max_scale = 1,\n",
    "        min_size  = 0, \n",
    "        max_size  = 9999, \n",
    "        verbose = False)\n",
    "\n",
    "    xys = xys.cpu().numpy()\n",
    "    desc = desc.cpu().numpy()\n",
    "    scores = scores.cpu().numpy()\n",
    "    idxs = scores.argsort()[-top_k or None:]\n",
    "\n",
    "    imsize = (W,H),\n",
    "    keypoints = xys[idxs], \n",
    "    descriptors = desc[idxs], \n",
    "    scores = scores[idxs]\n",
    "\n",
    "    return keypoints, descriptors, scores"
   ]
  },
  {
   "cell_type": "code",
   "execution_count": 31,
   "metadata": {},
   "outputs": [
    {
     "data": {
      "application/vnd.jupyter.widget-view+json": {
       "model_id": "772601631c264da783374280c0585750",
       "version_major": 2,
       "version_minor": 0
      },
      "text/plain": [
       "HBox(children=(FloatProgress(value=0.0, description='Directory', max=50.0, style=ProgressStyle(description_wid…"
      ]
     },
     "metadata": {},
     "output_type": "display_data"
    },
    {
     "data": {
      "application/vnd.jupyter.widget-view+json": {
       "model_id": "",
       "version_major": 2,
       "version_minor": 0
      },
      "text/plain": [
       "HBox(children=(FloatProgress(value=0.0, description='Files', max=300.0, style=ProgressStyle(description_width=…"
      ]
     },
     "metadata": {},
     "output_type": "display_data"
    },
    {
     "data": {
      "application/vnd.jupyter.widget-view+json": {
       "model_id": "",
       "version_major": 2,
       "version_minor": 0
      },
      "text/plain": [
       "HBox(children=(FloatProgress(value=0.0, description='Files', max=300.0, style=ProgressStyle(description_width=…"
      ]
     },
     "metadata": {},
     "output_type": "display_data"
    },
    {
     "data": {
      "application/vnd.jupyter.widget-view+json": {
       "model_id": "",
       "version_major": 2,
       "version_minor": 0
      },
      "text/plain": [
       "HBox(children=(FloatProgress(value=0.0, description='Files', max=300.0, style=ProgressStyle(description_width=…"
      ]
     },
     "metadata": {},
     "output_type": "display_data"
    },
    {
     "data": {
      "application/vnd.jupyter.widget-view+json": {
       "model_id": "",
       "version_major": 2,
       "version_minor": 0
      },
      "text/plain": [
       "HBox(children=(FloatProgress(value=0.0, description='Files', max=300.0, style=ProgressStyle(description_width=…"
      ]
     },
     "metadata": {},
     "output_type": "display_data"
    },
    {
     "data": {
      "application/vnd.jupyter.widget-view+json": {
       "model_id": "",
       "version_major": 2,
       "version_minor": 0
      },
      "text/plain": [
       "HBox(children=(FloatProgress(value=0.0, description='Files', max=300.0, style=ProgressStyle(description_width=…"
      ]
     },
     "metadata": {},
     "output_type": "display_data"
    },
    {
     "data": {
      "application/vnd.jupyter.widget-view+json": {
       "model_id": "",
       "version_major": 2,
       "version_minor": 0
      },
      "text/plain": [
       "HBox(children=(FloatProgress(value=0.0, description='Files', max=300.0, style=ProgressStyle(description_width=…"
      ]
     },
     "metadata": {},
     "output_type": "display_data"
    },
    {
     "data": {
      "application/vnd.jupyter.widget-view+json": {
       "model_id": "",
       "version_major": 2,
       "version_minor": 0
      },
      "text/plain": [
       "HBox(children=(FloatProgress(value=0.0, description='Files', max=300.0, style=ProgressStyle(description_width=…"
      ]
     },
     "metadata": {},
     "output_type": "display_data"
    },
    {
     "data": {
      "application/vnd.jupyter.widget-view+json": {
       "model_id": "",
       "version_major": 2,
       "version_minor": 0
      },
      "text/plain": [
       "HBox(children=(FloatProgress(value=0.0, description='Files', max=300.0, style=ProgressStyle(description_width=…"
      ]
     },
     "metadata": {},
     "output_type": "display_data"
    },
    {
     "data": {
      "application/vnd.jupyter.widget-view+json": {
       "model_id": "",
       "version_major": 2,
       "version_minor": 0
      },
      "text/plain": [
       "HBox(children=(FloatProgress(value=0.0, description='Files', max=300.0, style=ProgressStyle(description_width=…"
      ]
     },
     "metadata": {},
     "output_type": "display_data"
    },
    {
     "data": {
      "application/vnd.jupyter.widget-view+json": {
       "model_id": "",
       "version_major": 2,
       "version_minor": 0
      },
      "text/plain": [
       "HBox(children=(FloatProgress(value=0.0, description='Files', max=300.0, style=ProgressStyle(description_width=…"
      ]
     },
     "metadata": {},
     "output_type": "display_data"
    },
    {
     "data": {
      "application/vnd.jupyter.widget-view+json": {
       "model_id": "",
       "version_major": 2,
       "version_minor": 0
      },
      "text/plain": [
       "HBox(children=(FloatProgress(value=0.0, description='Files', max=300.0, style=ProgressStyle(description_width=…"
      ]
     },
     "metadata": {},
     "output_type": "display_data"
    },
    {
     "data": {
      "application/vnd.jupyter.widget-view+json": {
       "model_id": "",
       "version_major": 2,
       "version_minor": 0
      },
      "text/plain": [
       "HBox(children=(FloatProgress(value=0.0, description='Files', max=300.0, style=ProgressStyle(description_width=…"
      ]
     },
     "metadata": {},
     "output_type": "display_data"
    },
    {
     "data": {
      "application/vnd.jupyter.widget-view+json": {
       "model_id": "",
       "version_major": 2,
       "version_minor": 0
      },
      "text/plain": [
       "HBox(children=(FloatProgress(value=0.0, description='Files', max=300.0, style=ProgressStyle(description_width=…"
      ]
     },
     "metadata": {},
     "output_type": "display_data"
    },
    {
     "data": {
      "application/vnd.jupyter.widget-view+json": {
       "model_id": "",
       "version_major": 2,
       "version_minor": 0
      },
      "text/plain": [
       "HBox(children=(FloatProgress(value=0.0, description='Files', max=300.0, style=ProgressStyle(description_width=…"
      ]
     },
     "metadata": {},
     "output_type": "display_data"
    },
    {
     "data": {
      "application/vnd.jupyter.widget-view+json": {
       "model_id": "",
       "version_major": 2,
       "version_minor": 0
      },
      "text/plain": [
       "HBox(children=(FloatProgress(value=0.0, description='Files', max=300.0, style=ProgressStyle(description_width=…"
      ]
     },
     "metadata": {},
     "output_type": "display_data"
    },
    {
     "data": {
      "application/vnd.jupyter.widget-view+json": {
       "model_id": "",
       "version_major": 2,
       "version_minor": 0
      },
      "text/plain": [
       "HBox(children=(FloatProgress(value=0.0, description='Files', max=300.0, style=ProgressStyle(description_width=…"
      ]
     },
     "metadata": {},
     "output_type": "display_data"
    },
    {
     "data": {
      "application/vnd.jupyter.widget-view+json": {
       "model_id": "",
       "version_major": 2,
       "version_minor": 0
      },
      "text/plain": [
       "HBox(children=(FloatProgress(value=0.0, description='Files', max=300.0, style=ProgressStyle(description_width=…"
      ]
     },
     "metadata": {},
     "output_type": "display_data"
    },
    {
     "data": {
      "application/vnd.jupyter.widget-view+json": {
       "model_id": "",
       "version_major": 2,
       "version_minor": 0
      },
      "text/plain": [
       "HBox(children=(FloatProgress(value=0.0, description='Files', max=300.0, style=ProgressStyle(description_width=…"
      ]
     },
     "metadata": {},
     "output_type": "display_data"
    },
    {
     "data": {
      "application/vnd.jupyter.widget-view+json": {
       "model_id": "",
       "version_major": 2,
       "version_minor": 0
      },
      "text/plain": [
       "HBox(children=(FloatProgress(value=0.0, description='Files', max=300.0, style=ProgressStyle(description_width=…"
      ]
     },
     "metadata": {},
     "output_type": "display_data"
    },
    {
     "data": {
      "application/vnd.jupyter.widget-view+json": {
       "model_id": "",
       "version_major": 2,
       "version_minor": 0
      },
      "text/plain": [
       "HBox(children=(FloatProgress(value=0.0, description='Files', max=300.0, style=ProgressStyle(description_width=…"
      ]
     },
     "metadata": {},
     "output_type": "display_data"
    },
    {
     "data": {
      "application/vnd.jupyter.widget-view+json": {
       "model_id": "",
       "version_major": 2,
       "version_minor": 0
      },
      "text/plain": [
       "HBox(children=(FloatProgress(value=0.0, description='Files', max=300.0, style=ProgressStyle(description_width=…"
      ]
     },
     "metadata": {},
     "output_type": "display_data"
    },
    {
     "data": {
      "application/vnd.jupyter.widget-view+json": {
       "model_id": "",
       "version_major": 2,
       "version_minor": 0
      },
      "text/plain": [
       "HBox(children=(FloatProgress(value=0.0, description='Files', max=300.0, style=ProgressStyle(description_width=…"
      ]
     },
     "metadata": {},
     "output_type": "display_data"
    },
    {
     "data": {
      "application/vnd.jupyter.widget-view+json": {
       "model_id": "",
       "version_major": 2,
       "version_minor": 0
      },
      "text/plain": [
       "HBox(children=(FloatProgress(value=0.0, description='Files', max=300.0, style=ProgressStyle(description_width=…"
      ]
     },
     "metadata": {},
     "output_type": "display_data"
    },
    {
     "data": {
      "application/vnd.jupyter.widget-view+json": {
       "model_id": "",
       "version_major": 2,
       "version_minor": 0
      },
      "text/plain": [
       "HBox(children=(FloatProgress(value=0.0, description='Files', max=300.0, style=ProgressStyle(description_width=…"
      ]
     },
     "metadata": {},
     "output_type": "display_data"
    },
    {
     "data": {
      "application/vnd.jupyter.widget-view+json": {
       "model_id": "",
       "version_major": 2,
       "version_minor": 0
      },
      "text/plain": [
       "HBox(children=(FloatProgress(value=0.0, description='Files', max=300.0, style=ProgressStyle(description_width=…"
      ]
     },
     "metadata": {},
     "output_type": "display_data"
    },
    {
     "data": {
      "application/vnd.jupyter.widget-view+json": {
       "model_id": "",
       "version_major": 2,
       "version_minor": 0
      },
      "text/plain": [
       "HBox(children=(FloatProgress(value=0.0, description='Files', max=300.0, style=ProgressStyle(description_width=…"
      ]
     },
     "metadata": {},
     "output_type": "display_data"
    },
    {
     "data": {
      "application/vnd.jupyter.widget-view+json": {
       "model_id": "",
       "version_major": 2,
       "version_minor": 0
      },
      "text/plain": [
       "HBox(children=(FloatProgress(value=0.0, description='Files', max=300.0, style=ProgressStyle(description_width=…"
      ]
     },
     "metadata": {},
     "output_type": "display_data"
    },
    {
     "data": {
      "application/vnd.jupyter.widget-view+json": {
       "model_id": "",
       "version_major": 2,
       "version_minor": 0
      },
      "text/plain": [
       "HBox(children=(FloatProgress(value=0.0, description='Files', max=300.0, style=ProgressStyle(description_width=…"
      ]
     },
     "metadata": {},
     "output_type": "display_data"
    },
    {
     "name": "stdout",
     "output_type": "stream",
     "text": [
      "matmul: Input operand 0 does not have enough dimensions (has 0, gufunc core with signature (n?,k),(k,m?)->(n?,m?) requires 1)\n",
      "matmul: Input operand 0 does not have enough dimensions (has 0, gufunc core with signature (n?,k),(k,m?)->(n?,m?) requires 1)\n",
      "matmul: Input operand 0 does not have enough dimensions (has 0, gufunc core with signature (n?,k),(k,m?)->(n?,m?) requires 1)\n"
     ]
    },
    {
     "data": {
      "application/vnd.jupyter.widget-view+json": {
       "model_id": "",
       "version_major": 2,
       "version_minor": 0
      },
      "text/plain": [
       "HBox(children=(FloatProgress(value=0.0, description='Files', max=300.0, style=ProgressStyle(description_width=…"
      ]
     },
     "metadata": {},
     "output_type": "display_data"
    },
    {
     "data": {
      "application/vnd.jupyter.widget-view+json": {
       "model_id": "",
       "version_major": 2,
       "version_minor": 0
      },
      "text/plain": [
       "HBox(children=(FloatProgress(value=0.0, description='Files', max=300.0, style=ProgressStyle(description_width=…"
      ]
     },
     "metadata": {},
     "output_type": "display_data"
    },
    {
     "data": {
      "application/vnd.jupyter.widget-view+json": {
       "model_id": "",
       "version_major": 2,
       "version_minor": 0
      },
      "text/plain": [
       "HBox(children=(FloatProgress(value=0.0, description='Files', max=300.0, style=ProgressStyle(description_width=…"
      ]
     },
     "metadata": {},
     "output_type": "display_data"
    },
    {
     "data": {
      "application/vnd.jupyter.widget-view+json": {
       "model_id": "",
       "version_major": 2,
       "version_minor": 0
      },
      "text/plain": [
       "HBox(children=(FloatProgress(value=0.0, description='Files', max=300.0, style=ProgressStyle(description_width=…"
      ]
     },
     "metadata": {},
     "output_type": "display_data"
    },
    {
     "name": "stdout",
     "output_type": "stream",
     "text": [
      "matmul: Input operand 0 does not have enough dimensions (has 0, gufunc core with signature (n?,k),(k,m?)->(n?,m?) requires 1)\n",
      "matmul: Input operand 0 does not have enough dimensions (has 0, gufunc core with signature (n?,k),(k,m?)->(n?,m?) requires 1)\n"
     ]
    },
    {
     "data": {
      "application/vnd.jupyter.widget-view+json": {
       "model_id": "",
       "version_major": 2,
       "version_minor": 0
      },
      "text/plain": [
       "HBox(children=(FloatProgress(value=0.0, description='Files', max=300.0, style=ProgressStyle(description_width=…"
      ]
     },
     "metadata": {},
     "output_type": "display_data"
    },
    {
     "data": {
      "application/vnd.jupyter.widget-view+json": {
       "model_id": "",
       "version_major": 2,
       "version_minor": 0
      },
      "text/plain": [
       "HBox(children=(FloatProgress(value=0.0, description='Files', max=300.0, style=ProgressStyle(description_width=…"
      ]
     },
     "metadata": {},
     "output_type": "display_data"
    },
    {
     "data": {
      "application/vnd.jupyter.widget-view+json": {
       "model_id": "",
       "version_major": 2,
       "version_minor": 0
      },
      "text/plain": [
       "HBox(children=(FloatProgress(value=0.0, description='Files', max=300.0, style=ProgressStyle(description_width=…"
      ]
     },
     "metadata": {},
     "output_type": "display_data"
    },
    {
     "data": {
      "application/vnd.jupyter.widget-view+json": {
       "model_id": "",
       "version_major": 2,
       "version_minor": 0
      },
      "text/plain": [
       "HBox(children=(FloatProgress(value=0.0, description='Files', max=300.0, style=ProgressStyle(description_width=…"
      ]
     },
     "metadata": {},
     "output_type": "display_data"
    },
    {
     "data": {
      "application/vnd.jupyter.widget-view+json": {
       "model_id": "",
       "version_major": 2,
       "version_minor": 0
      },
      "text/plain": [
       "HBox(children=(FloatProgress(value=0.0, description='Files', max=300.0, style=ProgressStyle(description_width=…"
      ]
     },
     "metadata": {},
     "output_type": "display_data"
    },
    {
     "data": {
      "application/vnd.jupyter.widget-view+json": {
       "model_id": "",
       "version_major": 2,
       "version_minor": 0
      },
      "text/plain": [
       "HBox(children=(FloatProgress(value=0.0, description='Files', max=300.0, style=ProgressStyle(description_width=…"
      ]
     },
     "metadata": {},
     "output_type": "display_data"
    },
    {
     "data": {
      "application/vnd.jupyter.widget-view+json": {
       "model_id": "",
       "version_major": 2,
       "version_minor": 0
      },
      "text/plain": [
       "HBox(children=(FloatProgress(value=0.0, description='Files', max=300.0, style=ProgressStyle(description_width=…"
      ]
     },
     "metadata": {},
     "output_type": "display_data"
    },
    {
     "data": {
      "application/vnd.jupyter.widget-view+json": {
       "model_id": "",
       "version_major": 2,
       "version_minor": 0
      },
      "text/plain": [
       "HBox(children=(FloatProgress(value=0.0, description='Files', max=300.0, style=ProgressStyle(description_width=…"
      ]
     },
     "metadata": {},
     "output_type": "display_data"
    },
    {
     "data": {
      "application/vnd.jupyter.widget-view+json": {
       "model_id": "",
       "version_major": 2,
       "version_minor": 0
      },
      "text/plain": [
       "HBox(children=(FloatProgress(value=0.0, description='Files', max=300.0, style=ProgressStyle(description_width=…"
      ]
     },
     "metadata": {},
     "output_type": "display_data"
    },
    {
     "data": {
      "application/vnd.jupyter.widget-view+json": {
       "model_id": "",
       "version_major": 2,
       "version_minor": 0
      },
      "text/plain": [
       "HBox(children=(FloatProgress(value=0.0, description='Files', max=300.0, style=ProgressStyle(description_width=…"
      ]
     },
     "metadata": {},
     "output_type": "display_data"
    },
    {
     "data": {
      "application/vnd.jupyter.widget-view+json": {
       "model_id": "",
       "version_major": 2,
       "version_minor": 0
      },
      "text/plain": [
       "HBox(children=(FloatProgress(value=0.0, description='Files', max=300.0, style=ProgressStyle(description_width=…"
      ]
     },
     "metadata": {},
     "output_type": "display_data"
    },
    {
     "data": {
      "application/vnd.jupyter.widget-view+json": {
       "model_id": "",
       "version_major": 2,
       "version_minor": 0
      },
      "text/plain": [
       "HBox(children=(FloatProgress(value=0.0, description='Files', max=300.0, style=ProgressStyle(description_width=…"
      ]
     },
     "metadata": {},
     "output_type": "display_data"
    },
    {
     "data": {
      "application/vnd.jupyter.widget-view+json": {
       "model_id": "",
       "version_major": 2,
       "version_minor": 0
      },
      "text/plain": [
       "HBox(children=(FloatProgress(value=0.0, description='Files', max=300.0, style=ProgressStyle(description_width=…"
      ]
     },
     "metadata": {},
     "output_type": "display_data"
    },
    {
     "data": {
      "application/vnd.jupyter.widget-view+json": {
       "model_id": "",
       "version_major": 2,
       "version_minor": 0
      },
      "text/plain": [
       "HBox(children=(FloatProgress(value=0.0, description='Files', max=300.0, style=ProgressStyle(description_width=…"
      ]
     },
     "metadata": {},
     "output_type": "display_data"
    },
    {
     "data": {
      "application/vnd.jupyter.widget-view+json": {
       "model_id": "",
       "version_major": 2,
       "version_minor": 0
      },
      "text/plain": [
       "HBox(children=(FloatProgress(value=0.0, description='Files', max=300.0, style=ProgressStyle(description_width=…"
      ]
     },
     "metadata": {},
     "output_type": "display_data"
    },
    {
     "data": {
      "application/vnd.jupyter.widget-view+json": {
       "model_id": "",
       "version_major": 2,
       "version_minor": 0
      },
      "text/plain": [
       "HBox(children=(FloatProgress(value=0.0, description='Files', max=300.0, style=ProgressStyle(description_width=…"
      ]
     },
     "metadata": {},
     "output_type": "display_data"
    },
    {
     "data": {
      "application/vnd.jupyter.widget-view+json": {
       "model_id": "",
       "version_major": 2,
       "version_minor": 0
      },
      "text/plain": [
       "HBox(children=(FloatProgress(value=0.0, description='Files', max=300.0, style=ProgressStyle(description_width=…"
      ]
     },
     "metadata": {},
     "output_type": "display_data"
    },
    {
     "data": {
      "application/vnd.jupyter.widget-view+json": {
       "model_id": "",
       "version_major": 2,
       "version_minor": 0
      },
      "text/plain": [
       "HBox(children=(FloatProgress(value=0.0, description='Files', max=300.0, style=ProgressStyle(description_width=…"
      ]
     },
     "metadata": {},
     "output_type": "display_data"
    },
    {
     "name": "stdout",
     "output_type": "stream",
     "text": [
      "\n"
     ]
    }
   ],
   "source": [
    "from shapely import geometry\n",
    "import gc\n",
    "\n",
    "results_dict = dict()\n",
    "\n",
    "for j in tqdm(range(len(data_packs)), desc='Directory', leave=True, position=0):\n",
    "    dp = data_packs[j]\n",
    "    \n",
    "    torch.cuda.empty_cache()\n",
    "    \n",
    "    kp, ft, sc = R2D2_hard(str(dp.template_item.img_path))\n",
    "\n",
    "\n",
    "    orig_kp = kp[0]\n",
    "    orig_ft = ft[0]\n",
    "\n",
    "    \n",
    "    for i in tqdm(range(len(dp)), desc='Files', leave=False, position=1):\n",
    "        \n",
    "        if dp[i].is_test_split():\n",
    "            try:\n",
    "                kp, ft, sc = R2D2_hard(str(dp[i].img_path))\n",
    "\n",
    "                real_kp = kp[0]\n",
    "                real_ft = ft[0]\n",
    "\n",
    "\n",
    "                bf = cv2.BFMatcher()\n",
    "                matches = bf.knnMatch(real_ft, orig_ft, k=2)\n",
    "\n",
    "                best = []\n",
    "                for match1,match2 in matches:\n",
    "                    if match1.distance <  0.9 * match2.distance:\n",
    "                        best.append(match1)\n",
    "\n",
    "                if len(best) < 4:\n",
    "                    best=[]\n",
    "                    for match1,match2 in matches:\n",
    "                        best.append(match1)\n",
    "\n",
    "                real_points = np.zeros((len(best), 2), dtype=\"float\")\n",
    "                orig_points = np.zeros((len(best), 2), dtype=\"float\")\n",
    "\n",
    "                for (k, m) in enumerate(best):\n",
    "                    real_points[k] = real_kp[m.queryIdx][:2]\n",
    "                    orig_points[k] = orig_kp[m.trainIdx][:2]\n",
    "\n",
    "                (homography, mask) = cv2.findHomography(orig_points, real_points, method=cv2.RANSAC)\n",
    "\n",
    "                real_array = np.array(dp[i].image)\n",
    "                orig_array = np.array(dp.template_item.image)\n",
    "                real_h = real_array.shape[0]\n",
    "                real_w = real_array.shape[1]\n",
    "                orig_h = float(orig_array.shape[0])\n",
    "                orig_w = float(orig_array.shape[1])\n",
    "                                \n",
    "                points = [\n",
    "                    [0,      0     ],\n",
    "                    [orig_w, 0     ],\n",
    "                    [orig_w, orig_h],\n",
    "                    [0,      orig_h],\n",
    "                ]\n",
    "                \n",
    "                crop = list()\n",
    "                for point in points:\n",
    "                    vec = homography @ np.array([point[0], point[1], 1])\n",
    "                    crop.append([vec[0]/vec[-1], vec[1]/vec[-1]])\n",
    "\n",
    "                pred_quad = np.array(crop) / np.array([[real_w, real_h]])\n",
    "\n",
    "                del kp, ft, sc, real_kp, real_ft\n",
    "                gc.collect()\n",
    "                \n",
    "                try:\n",
    "                    _ = geometry.Polygon(pred_quad)\n",
    "                    results_dict[dp[i].unique_key] = pred_quad\n",
    "\n",
    "                except Exception as exc1:\n",
    "                    print(exc1)\n",
    "\n",
    "\n",
    "            except Exception as exc2:\n",
    "                print(exc2)\n",
    "    del orig_kp, orig_ft\n",
    "    gc.collect()"
   ]
  },
  {
   "cell_type": "code",
   "execution_count": 36,
   "metadata": {
    "id": "h_sdFEFn9jwk"
   },
   "outputs": [],
   "source": [
    "from course_ocr_t1.metrics import dump_results_dict, measure_crop_accuracy"
   ]
  },
  {
   "cell_type": "code",
   "execution_count": 37,
   "metadata": {
    "id": "jIC6sC8x9jwr"
   },
   "outputs": [],
   "source": [
    "dump_results_dict(results_dict, Path() / 'pred.json')"
   ]
  },
  {
   "cell_type": "code",
   "execution_count": 38,
   "metadata": {
    "id": "5-jbegfI9jws"
   },
   "outputs": [],
   "source": [
    "acc = measure_crop_accuracy(\n",
    "    Path() / 'pred.json',\n",
    "    Path() / 'gt.json'\n",
    ")"
   ]
  },
  {
   "cell_type": "code",
   "execution_count": 39,
   "metadata": {
    "id": "RqaKdNzN9jws"
   },
   "outputs": [
    {
     "name": "stdout",
     "output_type": "stream",
     "text": [
      "Точность кропа: 0.9699\n"
     ]
    }
   ],
   "source": [
    "print(\"Точность кропа: {:1.4f}\".format(acc))"
   ]
  }
 ],
 "metadata": {
  "accelerator": "GPU",
  "colab": {
   "collapsed_sections": [],
   "machine_shape": "hm",
   "name": "r2d2.ipynb",
   "provenance": []
  },
  "kernelspec": {
   "display_name": "Python 3",
   "language": "python",
   "name": "python3"
  },
  "language_info": {
   "codemirror_mode": {
    "name": "ipython",
    "version": 3
   },
   "file_extension": ".py",
   "mimetype": "text/x-python",
   "name": "python",
   "nbconvert_exporter": "python",
   "pygments_lexer": "ipython3",
   "version": "3.6.9"
  }
 },
 "nbformat": 4,
 "nbformat_minor": 5
}
